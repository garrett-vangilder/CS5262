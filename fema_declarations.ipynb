{
  "nbformat": 4,
  "nbformat_minor": 0,
  "metadata": {
    "colab": {
      "name": "Untitled0.ipynb",
      "provenance": [],
      "collapsed_sections": [],
      "authorship_tag": "ABX9TyMfFLnjRaHzeOSuCuRK5atg",
      "include_colab_link": true
    },
    "kernelspec": {
      "name": "python3",
      "display_name": "Python 3"
    },
    "language_info": {
      "name": "python"
    }
  },
  "cells": [
    {
      "cell_type": "markdown",
      "metadata": {
        "id": "view-in-github",
        "colab_type": "text"
      },
      "source": [
        "<a href=\"https://colab.research.google.com/github/garrett-vangilder/CS5265WeekOne/blob/main/fema_declarations.ipynb\" target=\"_parent\"><img src=\"https://colab.research.google.com/assets/colab-badge.svg\" alt=\"Open In Colab\"/></a>"
      ]
    },
    {
      "cell_type": "markdown",
      "source": [
        "# Predicting the Next Disaster"
      ],
      "metadata": {
        "id": "M2HaMWjeNLwb"
      }
    },
    {
      "cell_type": "markdown",
      "source": [
        "## Background\n",
        "\n",
        "Extreme weather events are becoming more likely as the effects of climate change are realized. This can be seen in the plethora of wildfires throughout the West, or the active hurricane seasons around the gulf states and off of the Atlantic coast. The Federal Emergency Management Agency (FEMA) does not declare every extreme weather event a disaster, but through a workflow specified by the Stafford Act, state and federal leaders can work together to determine if federal aid is necessary. The type of aid given to individuals is wide, it can include financial gifts to individuals or small businesses with the intention for the funds to be used for temporary housing or repairs. \n",
        "\n",
        "Is it possible to use [historical FEMA declarations](https://www.kaggle.com/datasets/headsortails/us-natural-disaster-declarations) to determine the likelihood of a catastrophic weather event for a given region on any given day in the future? Are catastrophic weather events becoming more prevalent? "
      ],
      "metadata": {
        "id": "wD2q85mMNi2P"
      }
    },
    {
      "cell_type": "markdown",
      "source": [
        "## Project Description\n",
        "\n",
        "Using historical FEMA disaster records, researchers can determine the likelihood of future disasters and disaster types when given a date and a state location. This could be useful in determining changes to local and federal funding for extreme weather events. This research can potentially be used as a proxy in determining the financial repercussions of climate change. When paired with a municipalities budget, and other financial records this data could be helpful to determine if funds are over or under-provisioned for disaster relief. Federal governments could extrapolate this data to inform federal funding better. There may even be a use case for private real estate development firms to use this model when determining the viability of large projects for a given location. If developers are aware that there is a high likelihood of volatile weather throughout a given month range, then a developer may determine that it is best to start their project in a different month to prevent delays to their timeline.\n",
        "\n",
        "The overall goal of this model is to be used as an extreme weather predictor by location, with extreme weather being those events that are disasters defined by FEMA.\n"
      ],
      "metadata": {
        "id": "PT8tQ1LwNpbE"
      }
    },
    {
      "cell_type": "markdown",
      "source": [
        "## Performance Metrics\n",
        "\n",
        "The performance of this regression model will be analyzed through the mean squared error metric. We will use the latest disaster (at this time the [Four Corner fire in Idaho](https://www.fema.gov/disaster/5449), remove the disaster from our data set, and then compare the location of the next predicted disaster versus the actual location of the most recent known disaster. This model will be considered a success if the prediction is within 1,000 kilometers of the actual value. 1,000 kilometers is the chosen threshold for success due to the regional nature of disasters. Disasters typically affect a large region of the country categorically throughout a calendar year, for example, wildfires in the west, hurricanes in the east, tornadoes throughout the middle of the country, flooding in the spring and fall, snowstorms in the north during the winter. Our model will need to understand the current date and historical trends in disaster types by date while also being able to predict the location of the next event. "
      ],
      "metadata": {
        "id": "EcyySISPNveh"
      }
    }
  ]
}