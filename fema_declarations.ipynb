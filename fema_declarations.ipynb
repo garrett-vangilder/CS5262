{
  "nbformat": 4,
  "nbformat_minor": 0,
  "metadata": {
    "colab": {
      "name": "Untitled0.ipynb",
      "provenance": [],
      "collapsed_sections": [],
      "include_colab_link": true
    },
    "kernelspec": {
      "name": "python3",
      "display_name": "Python 3"
    },
    "language_info": {
      "name": "python"
    }
  },
  "cells": [
    {
      "cell_type": "markdown",
      "metadata": {
        "id": "view-in-github",
        "colab_type": "text"
      },
      "source": [
        "<a href=\"https://colab.research.google.com/github/garrett-vangilder/CS5262/blob/main/fema_declarations.ipynb\" target=\"_parent\"><img src=\"https://colab.research.google.com/assets/colab-badge.svg\" alt=\"Open In Colab\"/></a>"
      ]
    },
    {
      "cell_type": "markdown",
      "source": [
        "# Predicting Future Frequency of Disasters by State"
      ],
      "metadata": {
        "id": "M2HaMWjeNLwb"
      }
    },
    {
      "cell_type": "markdown",
      "source": [
        "## Background\n",
        "\n",
        "Extreme weather events are becoming more likely as the effects of climate change are realized. This can be seen in the plethora of wildfires throughout the West. The Federal Emergency Management Agency (FEMA) does not declare every extreme weather event a disaster, but through a workflow specified by the Stafford Act, state and federal leaders can work together to determine if federal aid is necessary. The type of aid given to individuals is broad. It can include financial gifts to individuals or small businesses with the intention of using the funds for temporary housing or repairs.\n",
        "\n",
        "Is it possible to use [historical FEMA declarations](https://www.kaggle.com/datasets/headsortails/us-natural-disaster-declarations) to determine the change in frequency of catastrophic weather events for a given state? Are catastrophic weather events becoming more prevalent?"
      ],
      "metadata": {
        "id": "wD2q85mMNi2P"
      }
    },
    {
      "cell_type": "markdown",
      "source": [
        "## Project Description\n",
        "\n",
        "Using historical FEMA disaster records, researchers can determine the likelihood of future disasters and disaster types when given a date and a state location. This could be useful in analyzing changes to local and federal funding for extreme weather events. This research can potentially be used as a proxy for defining the financial repercussions of climate change. When paired with a municipalities budget and other financial records, this data could help decide if funds are over or under-provisioned for disaster relief. Federal governments could extrapolate this data to inform federal funding better. There may even be a case for private real estate development firms to use this model when selecting the viability of significant projects for a given location. If developers are aware that there is a high likelihood of volatile weather throughout a given month range, then a developer may determine that it is best to start their project in a different month to prevent delays to their timeline.\n",
        "\n",
        "The overall goal of this model is to be used as an severe weather predictor by volume for states."
      ],
      "metadata": {
        "id": "PT8tQ1LwNpbE"
      }
    },
    {
      "cell_type": "markdown",
      "source": [
        "## Performance Metrics\n",
        "\n",
        "We will analyze the performance of this regression model through the mean squared error metric. This model will be considered a success if the prediction is within +/- 2 events for most states. To validate the model we will create a training dataset of all events before 2022, our test dataset will include the complete dataset, meaning that we will include 2022 disasters. "
      ],
      "metadata": {
        "id": "EcyySISPNveh"
      }
    },
    {
      "cell_type": "markdown",
      "source": [
        "## Exploratory Data Analysis\n",
        "\n",
        "Through my initial exploratory data analysis, I am looking to answer the following questions to understand my dataset better.\n",
        "\n",
        "1. Are all states represented, and if so which state is most prone to disasters?\n",
        "\n",
        "2. Are disasters becoming more or less common? How many disasters are there each year?\n",
        "\n",
        "3. What are the most common disaster types?\n",
        "\n",
        "4. Are there any correlated variables in my dataset? "
      ],
      "metadata": {
        "id": "Fdbb3-oQW-RF"
      }
    },
    {
      "cell_type": "code",
      "source": [
        "# Load commons libs\n",
        "import pandas as pd\n",
        "import numpy as np\n",
        "import seaborn as sns\n",
        "import matplotlib.pyplot as plt\n",
        "import datetime as dt"
      ],
      "metadata": {
        "id": "d1tCafpiZWlK"
      },
      "execution_count": 2,
      "outputs": []
    },
    {
      "cell_type": "markdown",
      "source": [
        "#### Load Data\n",
        "\n",
        "We will injest our dataset, and the data dictionary.\n",
        "\n",
        "Data was initially sourced from FEMA, however it has been made public via [kaggle](https://www.kaggle.com/datasets/headsortails/us-natural-disaster-declarations)\n",
        "\n",
        "We wil source our data from a clone located in the corresponding [github repo](https://github.com/garrett-vangilder/CS5262)."
      ],
      "metadata": {
        "id": "lYHPqFlHZdBB"
      }
    },
    {
      "cell_type": "code",
      "source": [
        "data_dictionary = pd.read_csv('https://raw.githubusercontent.com/garrett-vangilder/CS5262/main/data_dictionary.csv')\n",
        "\n",
        "disasters = pd.read_csv('https://raw.githubusercontent.com/garrett-vangilder/CS5262/main/us_disaster_declarations.csv')\n"
      ],
      "metadata": {
        "id": "kWmTdxEzaIDO"
      },
      "execution_count": 33,
      "outputs": []
    },
    {
      "cell_type": "markdown",
      "source": [
        "#### Data Dictionary"
      ],
      "metadata": {
        "id": "OoxCfSd_aYtp"
      }
    },
    {
      "cell_type": "code",
      "source": [
        "display(data_dictionary)"
      ],
      "metadata": {
        "colab": {
          "base_uri": "https://localhost:8080/",
          "height": 771
        },
        "id": "7WQCu1aIaa-X",
        "outputId": "a5649ef9-dfe0-4f2a-e47b-0e129f57a91b"
      },
      "execution_count": null,
      "outputs": [
        {
          "output_type": "display_data",
          "data": {
            "text/plain": [
              "                       feature  \\\n",
              "0      fema_declaration_string   \n",
              "1              disaster_number   \n",
              "2                        state   \n",
              "3             declaration_type   \n",
              "4             declaration_date   \n",
              "5                  fy_declared   \n",
              "6                incident_type   \n",
              "7            declaration_title   \n",
              "8          ih_program_declared   \n",
              "9          ia_program_declared   \n",
              "10         pa_program_declared   \n",
              "11         hm_program_declared   \n",
              "12         incident_begin_date   \n",
              "13           incident_end_date   \n",
              "14      disaster_closeout_date   \n",
              "15                        fips   \n",
              "16                  place_code   \n",
              "17             designated_area   \n",
              "18  declaration_request_number   \n",
              "19         last_ia_filing_date   \n",
              "20                        hash   \n",
              "21                          id   \n",
              "22                last_refresh   \n",
              "\n",
              "                                          description      type  \n",
              "0   codified identifier for disaster - declaration...    string  \n",
              "1     an incremented value used to designate an event   integer  \n",
              "2             US state or territory - formatted as XX    string  \n",
              "3   DR(\"major disaster\") or EM(\"emergency manageme...    string  \n",
              "4   date of disaster declaration formatted YYYY-MM...  datetime  \n",
              "5           fiscal year of declaration formatted YYYY   integer  \n",
              "6   classification of incident type example: \"Floo...   integer  \n",
              "7   generic identifier for incident typically huma...    string  \n",
              "8   boolean value denotes if the \"Individual and H...   boolean  \n",
              "9   boolean value denotes if the \"Individual Assis...   boolean  \n",
              "10  boolean value denotes if the \"Public Assistanc...   boolean  \n",
              "11  boolean value denotes if the \"Hazard Mitigatio...   boolean  \n",
              "12  date for the actual start of the incident (inc...  datetime  \n",
              "13  date for the actual end of the incident format...  datetime  \n",
              "14  date that specifies the financial closeout for...  datetime  \n",
              "15   codification of location of the event through...   integer  \n",
              "16  internal codification of a location for FEMA -...   integer  \n",
              "17  human-readable string describing the affected ...    string  \n",
              "18  identifier specific to the request to declare ...   integer  \n",
              "19  date of the last Individual Assistance program...  datetime  \n",
              "20                             MD5 Hash of the record    string  \n",
              "21                           unique record identifier      GUID  \n",
              "22  date of the last refresh from FEMA format: YYY...  datetime  "
            ],
            "text/html": [
              "\n",
              "  <div id=\"df-0c7191bf-4f7f-448d-992e-b2bed0d0f704\">\n",
              "    <div class=\"colab-df-container\">\n",
              "      <div>\n",
              "<style scoped>\n",
              "    .dataframe tbody tr th:only-of-type {\n",
              "        vertical-align: middle;\n",
              "    }\n",
              "\n",
              "    .dataframe tbody tr th {\n",
              "        vertical-align: top;\n",
              "    }\n",
              "\n",
              "    .dataframe thead th {\n",
              "        text-align: right;\n",
              "    }\n",
              "</style>\n",
              "<table border=\"1\" class=\"dataframe\">\n",
              "  <thead>\n",
              "    <tr style=\"text-align: right;\">\n",
              "      <th></th>\n",
              "      <th>feature</th>\n",
              "      <th>description</th>\n",
              "      <th>type</th>\n",
              "    </tr>\n",
              "  </thead>\n",
              "  <tbody>\n",
              "    <tr>\n",
              "      <th>0</th>\n",
              "      <td>fema_declaration_string</td>\n",
              "      <td>codified identifier for disaster - declaration...</td>\n",
              "      <td>string</td>\n",
              "    </tr>\n",
              "    <tr>\n",
              "      <th>1</th>\n",
              "      <td>disaster_number</td>\n",
              "      <td>an incremented value used to designate an event</td>\n",
              "      <td>integer</td>\n",
              "    </tr>\n",
              "    <tr>\n",
              "      <th>2</th>\n",
              "      <td>state</td>\n",
              "      <td>US state or territory - formatted as XX</td>\n",
              "      <td>string</td>\n",
              "    </tr>\n",
              "    <tr>\n",
              "      <th>3</th>\n",
              "      <td>declaration_type</td>\n",
              "      <td>DR(\"major disaster\") or EM(\"emergency manageme...</td>\n",
              "      <td>string</td>\n",
              "    </tr>\n",
              "    <tr>\n",
              "      <th>4</th>\n",
              "      <td>declaration_date</td>\n",
              "      <td>date of disaster declaration formatted YYYY-MM...</td>\n",
              "      <td>datetime</td>\n",
              "    </tr>\n",
              "    <tr>\n",
              "      <th>5</th>\n",
              "      <td>fy_declared</td>\n",
              "      <td>fiscal year of declaration formatted YYYY</td>\n",
              "      <td>integer</td>\n",
              "    </tr>\n",
              "    <tr>\n",
              "      <th>6</th>\n",
              "      <td>incident_type</td>\n",
              "      <td>classification of incident type example: \"Floo...</td>\n",
              "      <td>integer</td>\n",
              "    </tr>\n",
              "    <tr>\n",
              "      <th>7</th>\n",
              "      <td>declaration_title</td>\n",
              "      <td>generic identifier for incident typically huma...</td>\n",
              "      <td>string</td>\n",
              "    </tr>\n",
              "    <tr>\n",
              "      <th>8</th>\n",
              "      <td>ih_program_declared</td>\n",
              "      <td>boolean value denotes if the \"Individual and H...</td>\n",
              "      <td>boolean</td>\n",
              "    </tr>\n",
              "    <tr>\n",
              "      <th>9</th>\n",
              "      <td>ia_program_declared</td>\n",
              "      <td>boolean value denotes if the \"Individual Assis...</td>\n",
              "      <td>boolean</td>\n",
              "    </tr>\n",
              "    <tr>\n",
              "      <th>10</th>\n",
              "      <td>pa_program_declared</td>\n",
              "      <td>boolean value denotes if the \"Public Assistanc...</td>\n",
              "      <td>boolean</td>\n",
              "    </tr>\n",
              "    <tr>\n",
              "      <th>11</th>\n",
              "      <td>hm_program_declared</td>\n",
              "      <td>boolean value denotes if the \"Hazard Mitigatio...</td>\n",
              "      <td>boolean</td>\n",
              "    </tr>\n",
              "    <tr>\n",
              "      <th>12</th>\n",
              "      <td>incident_begin_date</td>\n",
              "      <td>date for the actual start of the incident (inc...</td>\n",
              "      <td>datetime</td>\n",
              "    </tr>\n",
              "    <tr>\n",
              "      <th>13</th>\n",
              "      <td>incident_end_date</td>\n",
              "      <td>date for the actual end of the incident format...</td>\n",
              "      <td>datetime</td>\n",
              "    </tr>\n",
              "    <tr>\n",
              "      <th>14</th>\n",
              "      <td>disaster_closeout_date</td>\n",
              "      <td>date that specifies the financial closeout for...</td>\n",
              "      <td>datetime</td>\n",
              "    </tr>\n",
              "    <tr>\n",
              "      <th>15</th>\n",
              "      <td>fips</td>\n",
              "      <td>codification of location of the event through...</td>\n",
              "      <td>integer</td>\n",
              "    </tr>\n",
              "    <tr>\n",
              "      <th>16</th>\n",
              "      <td>place_code</td>\n",
              "      <td>internal codification of a location for FEMA -...</td>\n",
              "      <td>integer</td>\n",
              "    </tr>\n",
              "    <tr>\n",
              "      <th>17</th>\n",
              "      <td>designated_area</td>\n",
              "      <td>human-readable string describing the affected ...</td>\n",
              "      <td>string</td>\n",
              "    </tr>\n",
              "    <tr>\n",
              "      <th>18</th>\n",
              "      <td>declaration_request_number</td>\n",
              "      <td>identifier specific to the request to declare ...</td>\n",
              "      <td>integer</td>\n",
              "    </tr>\n",
              "    <tr>\n",
              "      <th>19</th>\n",
              "      <td>last_ia_filing_date</td>\n",
              "      <td>date of the last Individual Assistance program...</td>\n",
              "      <td>datetime</td>\n",
              "    </tr>\n",
              "    <tr>\n",
              "      <th>20</th>\n",
              "      <td>hash</td>\n",
              "      <td>MD5 Hash of the record</td>\n",
              "      <td>string</td>\n",
              "    </tr>\n",
              "    <tr>\n",
              "      <th>21</th>\n",
              "      <td>id</td>\n",
              "      <td>unique record identifier</td>\n",
              "      <td>GUID</td>\n",
              "    </tr>\n",
              "    <tr>\n",
              "      <th>22</th>\n",
              "      <td>last_refresh</td>\n",
              "      <td>date of the last refresh from FEMA format: YYY...</td>\n",
              "      <td>datetime</td>\n",
              "    </tr>\n",
              "  </tbody>\n",
              "</table>\n",
              "</div>\n",
              "      <button class=\"colab-df-convert\" onclick=\"convertToInteractive('df-0c7191bf-4f7f-448d-992e-b2bed0d0f704')\"\n",
              "              title=\"Convert this dataframe to an interactive table.\"\n",
              "              style=\"display:none;\">\n",
              "        \n",
              "  <svg xmlns=\"http://www.w3.org/2000/svg\" height=\"24px\"viewBox=\"0 0 24 24\"\n",
              "       width=\"24px\">\n",
              "    <path d=\"M0 0h24v24H0V0z\" fill=\"none\"/>\n",
              "    <path d=\"M18.56 5.44l.94 2.06.94-2.06 2.06-.94-2.06-.94-.94-2.06-.94 2.06-2.06.94zm-11 1L8.5 8.5l.94-2.06 2.06-.94-2.06-.94L8.5 2.5l-.94 2.06-2.06.94zm10 10l.94 2.06.94-2.06 2.06-.94-2.06-.94-.94-2.06-.94 2.06-2.06.94z\"/><path d=\"M17.41 7.96l-1.37-1.37c-.4-.4-.92-.59-1.43-.59-.52 0-1.04.2-1.43.59L10.3 9.45l-7.72 7.72c-.78.78-.78 2.05 0 2.83L4 21.41c.39.39.9.59 1.41.59.51 0 1.02-.2 1.41-.59l7.78-7.78 2.81-2.81c.8-.78.8-2.07 0-2.86zM5.41 20L4 18.59l7.72-7.72 1.47 1.35L5.41 20z\"/>\n",
              "  </svg>\n",
              "      </button>\n",
              "      \n",
              "  <style>\n",
              "    .colab-df-container {\n",
              "      display:flex;\n",
              "      flex-wrap:wrap;\n",
              "      gap: 12px;\n",
              "    }\n",
              "\n",
              "    .colab-df-convert {\n",
              "      background-color: #E8F0FE;\n",
              "      border: none;\n",
              "      border-radius: 50%;\n",
              "      cursor: pointer;\n",
              "      display: none;\n",
              "      fill: #1967D2;\n",
              "      height: 32px;\n",
              "      padding: 0 0 0 0;\n",
              "      width: 32px;\n",
              "    }\n",
              "\n",
              "    .colab-df-convert:hover {\n",
              "      background-color: #E2EBFA;\n",
              "      box-shadow: 0px 1px 2px rgba(60, 64, 67, 0.3), 0px 1px 3px 1px rgba(60, 64, 67, 0.15);\n",
              "      fill: #174EA6;\n",
              "    }\n",
              "\n",
              "    [theme=dark] .colab-df-convert {\n",
              "      background-color: #3B4455;\n",
              "      fill: #D2E3FC;\n",
              "    }\n",
              "\n",
              "    [theme=dark] .colab-df-convert:hover {\n",
              "      background-color: #434B5C;\n",
              "      box-shadow: 0px 1px 3px 1px rgba(0, 0, 0, 0.15);\n",
              "      filter: drop-shadow(0px 1px 2px rgba(0, 0, 0, 0.3));\n",
              "      fill: #FFFFFF;\n",
              "    }\n",
              "  </style>\n",
              "\n",
              "      <script>\n",
              "        const buttonEl =\n",
              "          document.querySelector('#df-0c7191bf-4f7f-448d-992e-b2bed0d0f704 button.colab-df-convert');\n",
              "        buttonEl.style.display =\n",
              "          google.colab.kernel.accessAllowed ? 'block' : 'none';\n",
              "\n",
              "        async function convertToInteractive(key) {\n",
              "          const element = document.querySelector('#df-0c7191bf-4f7f-448d-992e-b2bed0d0f704');\n",
              "          const dataTable =\n",
              "            await google.colab.kernel.invokeFunction('convertToInteractive',\n",
              "                                                     [key], {});\n",
              "          if (!dataTable) return;\n",
              "\n",
              "          const docLinkHtml = 'Like what you see? Visit the ' +\n",
              "            '<a target=\"_blank\" href=https://colab.research.google.com/notebooks/data_table.ipynb>data table notebook</a>'\n",
              "            + ' to learn more about interactive tables.';\n",
              "          element.innerHTML = '';\n",
              "          dataTable['output_type'] = 'display_data';\n",
              "          await google.colab.output.renderOutput(dataTable, element);\n",
              "          const docLink = document.createElement('div');\n",
              "          docLink.innerHTML = docLinkHtml;\n",
              "          element.appendChild(docLink);\n",
              "        }\n",
              "      </script>\n",
              "    </div>\n",
              "  </div>\n",
              "  "
            ]
          },
          "metadata": {}
        }
      ]
    },
    {
      "cell_type": "markdown",
      "source": [
        "#### 1. Are all states represented, and if so which state is most prone to disasters?"
      ],
      "metadata": {
        "id": "M9fzittMak8m"
      }
    },
    {
      "cell_type": "code",
      "source": [
        "disasters.groupby('state').fema_declaration_string.nunique().sort_values(ascending=False)\n"
      ],
      "metadata": {
        "colab": {
          "base_uri": "https://localhost:8080/"
        },
        "id": "SLuDgFWwao-H",
        "outputId": "0ace1d5b-3632-4ebb-9dfb-57a5053cb788"
      },
      "execution_count": null,
      "outputs": [
        {
          "output_type": "execute_result",
          "data": {
            "text/plain": [
              "state\n",
              "TX    371\n",
              "CA    357\n",
              "OK    218\n",
              "WA    191\n",
              "FL    168\n",
              "OR    140\n",
              "NM    111\n",
              "NY    107\n",
              "AZ    106\n",
              "LA    101\n",
              "CO    101\n",
              "NV    100\n",
              "AL     99\n",
              "MT     98\n",
              "MS     90\n",
              "SD     87\n",
              "KY     86\n",
              "TN     83\n",
              "KS     82\n",
              "AR     79\n",
              "MO     77\n",
              "MN     77\n",
              "AK     77\n",
              "NE     76\n",
              "WV     75\n",
              "NC     73\n",
              "IA     73\n",
              "GA     72\n",
              "VA     72\n",
              "ND     67\n",
              "IL     64\n",
              "PA     63\n",
              "ME     63\n",
              "HI     61\n",
              "OH     59\n",
              "NJ     57\n",
              "NH     57\n",
              "MA     56\n",
              "WI     54\n",
              "ID     53\n",
              "VT     52\n",
              "UT     51\n",
              "IN     51\n",
              "PR     46\n",
              "MI     43\n",
              "CT     39\n",
              "SC     38\n",
              "WY     38\n",
              "MD     37\n",
              "VI     30\n",
              "RI     27\n",
              "DE     25\n",
              "DC     23\n",
              "MP     23\n",
              "FM     21\n",
              "GU     19\n",
              "AS     16\n",
              "MH      7\n",
              "PW      1\n",
              "Name: fema_declaration_string, dtype: int64"
            ]
          },
          "metadata": {},
          "execution_count": 65
        }
      ]
    },
    {
      "cell_type": "code",
      "source": [
        "len(disasters.groupby('state'))"
      ],
      "metadata": {
        "colab": {
          "base_uri": "https://localhost:8080/"
        },
        "id": "d0i1AB2SchX-",
        "outputId": "7010e507-4ebe-4106-eba1-f0fdbd8283cb"
      },
      "execution_count": null,
      "outputs": [
        {
          "output_type": "execute_result",
          "data": {
            "text/plain": [
              "59"
            ]
          },
          "metadata": {},
          "execution_count": 46
        }
      ]
    },
    {
      "cell_type": "markdown",
      "source": [
        "All states are represented in the dataset, however it seems that there are multiple rows per unique incident, moving forward all queries will filter data for unique entries by FEMA declaration string."
      ],
      "metadata": {
        "id": "lIgXMqx2m8Ht"
      }
    },
    {
      "cell_type": "markdown",
      "source": [
        "#### 2. Are disasters becoming more or less common? How many disasters are there each year?"
      ],
      "metadata": {
        "id": "oLdJVs6EgtI3"
      }
    },
    {
      "cell_type": "code",
      "source": [
        "disaster_count_by_year = disasters.groupby('fy_declared').fema_declaration_string.nunique().sort_index()\n",
        "sns.lineplot(data=disaster_count_by_year);"
      ],
      "metadata": {
        "id": "VmUIxJp7gouO",
        "outputId": "afcbf2bf-32b5-4650-df22-f864904761d3",
        "colab": {
          "base_uri": "https://localhost:8080/",
          "height": 280
        }
      },
      "execution_count": null,
      "outputs": [
        {
          "output_type": "display_data",
          "data": {
            "text/plain": [
              "<Figure size 432x288 with 1 Axes>"
            ],
            "image/png": "[encoded data removed]"
          },
          "metadata": {
            "needs_background": "light"
          }
        }
      ]
    },
    {
      "cell_type": "code",
      "source": [
        "disaster_count_by_year.mean()"
      ],
      "metadata": {
        "id": "UjUUCbZQkg-m",
        "outputId": "a35a66b4-b74e-42b3-fff8-3cc999659c3d",
        "colab": {
          "base_uri": "https://localhost:8080/"
        }
      },
      "execution_count": null,
      "outputs": [
        {
          "output_type": "execute_result",
          "data": {
            "text/plain": [
              "66.97142857142858"
            ]
          },
          "metadata": {},
          "execution_count": 66
        }
      ]
    },
    {
      "cell_type": "markdown",
      "source": [
        "It seems that there are generally more FEMA incidents in the recent future compared to past events. "
      ],
      "metadata": {
        "id": "fDqFDSEynLq1"
      }
    },
    {
      "cell_type": "markdown",
      "source": [
        "#### 3. What are the most common disaster types?\n"
      ],
      "metadata": {
        "id": "20XRb0eakvTT"
      }
    },
    {
      "cell_type": "code",
      "source": [
        "disasters.groupby('incident_type').fema_declaration_string.nunique().sort_values(ascending=False)"
      ],
      "metadata": {
        "id": "avlLLe0Bkuoa",
        "outputId": "4109007b-d8ab-4cd1-c70d-dc9c726004ce",
        "colab": {
          "base_uri": "https://localhost:8080/"
        }
      },
      "execution_count": null,
      "outputs": [
        {
          "output_type": "execute_result",
          "data": {
            "text/plain": [
              "incident_type\n",
              "Fire                1542\n",
              "Severe Storm(s)     1017\n",
              "Flood                853\n",
              "Hurricane            425\n",
              "Tornado              177\n",
              "Snow                 169\n",
              "Biological           167\n",
              "Severe Ice Storm      74\n",
              "Typhoon               58\n",
              "Drought               46\n",
              "Earthquake            35\n",
              "Other                 31\n",
              "Coastal Storm         31\n",
              "Freezing              18\n",
              "Mud/Landslide          9\n",
              "Toxic Substances       8\n",
              "Fishing Losses         6\n",
              "Dam/Levee Break        6\n",
              "Volcano                6\n",
              "Human Cause            4\n",
              "Tsunami                3\n",
              "Terrorist              2\n",
              "Chemical               1\n",
              "Name: fema_declaration_string, dtype: int64"
            ]
          },
          "metadata": {},
          "execution_count": 73
        }
      ]
    },
    {
      "cell_type": "markdown",
      "source": [
        "Natural disasters seem to be the most common disaster, however it is interesting to note that there are chemical, terrorist, and generally human-centric disasters that do qualify for FEMA assistance. "
      ],
      "metadata": {
        "id": "iGxIDpdNnbOR"
      }
    },
    {
      "cell_type": "markdown",
      "source": [
        "#### 4. Are there any correlated variables in my dataset?"
      ],
      "metadata": {
        "id": "je5zA12Alz_-"
      }
    },
    {
      "cell_type": "code",
      "source": [
        "sns.heatmap(disasters.corr())"
      ],
      "metadata": {
        "id": "adPvsmopl1tJ",
        "outputId": "383933f8-120d-457a-8e6b-3aa73136d27b",
        "colab": {
          "base_uri": "https://localhost:8080/",
          "height": 420
        }
      },
      "execution_count": null,
      "outputs": [
        {
          "output_type": "execute_result",
          "data": {
            "text/plain": [
              "<matplotlib.axes._subplots.AxesSubplot at 0x7fc6e9271e90>"
            ]
          },
          "metadata": {},
          "execution_count": 79
        },
        {
          "output_type": "display_data",
          "data": {
            "text/plain": [
              "<Figure size 432x288 with 2 Axes>"
            ],
            "image/png": "[encoded data removed]"
          },
          "metadata": {
            "needs_background": "light"
          }
        }
      ]
    },
    {
      "cell_type": "markdown",
      "source": [
        "`disaster_number` and `fy_declaraed` correspond, this is not a surprise since `disaster_number` increments, as do years. "
      ],
      "metadata": {
        "id": "td21p0xvnrIy"
      }
    },
    {
      "cell_type": "markdown",
      "source": [
        "## Feature engineering\n",
        "\n",
        "Due to the nature of our dataset, we will need to perform some transformations to better train our model. We are interested in disasters that are weather related, meaning we will also need to perform some operations to clean or remove rows from our dataset. \n",
        "\n",
        "We will remove rows with the following `incident_type`\n",
        "1. Biological\n",
        "2. Toxic Substance\n",
        "3. Human Cause\n",
        "4. Terrorist\n",
        "5. Chemical\n",
        "\n",
        "We will maintain `Fishing Losses` and `Dam/Levee Break` since they theoretically could be caused by extreme weather patterns. Human cause via climate migration is also outside the scope of this model. \n",
        "\n",
        "Disasters that persist over a larger time period are over valued in this model, we are not looking into the length of a model but instead we are interested in unique events. Because of this we will enforce a uniqueness to `fema_declaration_string` meaning that only the initial row for a declaration string will be used. \n",
        "\n",
        "`season` will be added - this will be specific to the `incident_begin_date` and for simplicities sake follow the 2022 seasonale calendar\n",
        "\n",
        "- Winter: Jan 1 - March 19 / Dec 21 - Dec 31\n",
        "- Spring: March 20 - June 21\n",
        "- Summer: June 22 - Sept 21\n",
        "- Fall: Sept 22 - Dec 20\n"
      ],
      "metadata": {
        "id": "qZx6G6nBrW9i"
      }
    },
    {
      "cell_type": "code",
      "source": [
        "# Drop non weather specific events\n",
        "it_to_drop = ['Biological', 'Toxic Substance', 'Human Cause', 'Terrorist', 'Chemical']\n",
        "\n",
        "disasters = disasters[~disasters.incident_type.isin(it_to_drop)]\n"
      ],
      "metadata": {
        "id": "Tav7OqSFqrBn"
      },
      "execution_count": 34,
      "outputs": []
    },
    {
      "cell_type": "code",
      "source": [
        "# Drop all but first entry by fema_declaration_string\n",
        "\n",
        "disasters = disasters.drop_duplicates(subset=['fema_declaration_string'])"
      ],
      "metadata": {
        "id": "0fTBNQkTuwct"
      },
      "execution_count": 35,
      "outputs": []
    },
    {
      "cell_type": "code",
      "source": [
        "# Add seasons\n",
        "WINTER = 'winter'\n",
        "SPRING = 'spring'\n",
        "SUMMER = 'summer'\n",
        "FALL = 'fall'\n",
        "\n",
        "month_to_seasons = {\n",
        "    1: WINTER,\n",
        "    2: WINTER,\n",
        "    3: SPRING,\n",
        "    4: SPRING,\n",
        "    5: SPRING,\n",
        "    6: SUMMER,\n",
        "    7: SUMMER,\n",
        "    8: SUMMER,\n",
        "    9: FALL,\n",
        "    10: FALL,\n",
        "    11: FALL,\n",
        "    12: WINTER\n",
        "}\n",
        "disasters['declaration_date'] = pd.to_datetime(disasters.declaration_date, format='%Y-%m-%d %H:%M:%S')\n",
        "disasters['month'] = disasters['declaration_date'].dt.month\n",
        "disasters['season'] = disasters.month.apply(lambda month: month_to_seasons.get(month))"
      ],
      "metadata": {
        "id": "M241ii5Gtnxn"
      },
      "execution_count": 36,
      "outputs": []
    },
    {
      "cell_type": "code",
      "source": [
        "# Drop unrelated columns\n",
        "\n",
        "disasters = disasters.drop(\n",
        "    columns=['ih_program_declared','ia_program_declared',\n",
        "             'pa_program_declared','hm_program_declared', \n",
        "             'last_ia_filing_date', 'hash', 'id', 'last_refresh',\n",
        "             'month']\n",
        ")"
      ],
      "metadata": {
        "id": "WJn3k2HjvbeO"
      },
      "execution_count": 37,
      "outputs": []
    },
    {
      "cell_type": "code",
      "source": [
        "disasters"
      ],
      "metadata": {
        "id": "o4W4BD5Rv5b3",
        "outputId": "55847ba9-a8ff-4732-9b80-a2ec1432608c",
        "colab": {
          "base_uri": "https://localhost:8080/",
          "height": 679
        }
      },
      "execution_count": 38,
      "outputs": [
        {
          "output_type": "execute_result",
          "data": {
            "text/plain": [
              "      fema_declaration_string  disaster_number state declaration_type  \\\n",
              "0                     DR-1-GA                1    GA               DR   \n",
              "1                     DR-2-TX                2    TX               DR   \n",
              "2                     DR-3-LA                3    LA               DR   \n",
              "3                     DR-4-MI                4    MI               DR   \n",
              "4                     DR-5-MT                5    MT               DR   \n",
              "...                       ...              ...   ...              ...   \n",
              "63183              FM-5447-WA             5447    WA               FM   \n",
              "63184              DR-4665-MO             4665    MO               DR   \n",
              "63188              DR-4666-MN             4666    MN               DR   \n",
              "63211              FM-5448-NV             5448    NV               FM   \n",
              "63212              FM-5449-ID             5449    ID               FM   \n",
              "\n",
              "               declaration_date  fy_declared    incident_type  \\\n",
              "0     1953-05-02 00:00:00+00:00         1953          Tornado   \n",
              "1     1953-05-15 00:00:00+00:00         1953          Tornado   \n",
              "2     1953-05-29 00:00:00+00:00         1953            Flood   \n",
              "3     1953-06-02 00:00:00+00:00         1953          Tornado   \n",
              "4     1953-06-06 00:00:00+00:00         1953            Flood   \n",
              "...                         ...          ...              ...   \n",
              "63183 2022-08-04 00:00:00+00:00         2022             Fire   \n",
              "63184 2022-08-08 00:00:00+00:00         2022            Flood   \n",
              "63188 2022-08-09 00:00:00+00:00         2022  Severe Storm(s)   \n",
              "63211 2022-08-14 00:00:00+00:00         2022             Fire   \n",
              "63212 2022-08-19 00:00:00+00:00         2022             Fire   \n",
              "\n",
              "                                       declaration_title  \\\n",
              "0                                                Tornado   \n",
              "1                               Tornado & Heavy Rainfall   \n",
              "2                                                  Flood   \n",
              "3                                                Tornado   \n",
              "4                                                 Floods   \n",
              "...                                                  ...   \n",
              "63183                                          Lind Fire   \n",
              "63184                         Severe Storms And Flooding   \n",
              "63188  Severe Storms, Straight-Line Winds, Tornadoes,...   \n",
              "63211                                      Joy Lake Fire   \n",
              "63212                                  Four Corners Fire   \n",
              "\n",
              "        incident_begin_date     incident_end_date disaster_closeout_date  \\\n",
              "0      1953-05-02T00:00:00Z  1953-05-02T00:00:00Z   1954-06-01T00:00:00Z   \n",
              "1      1953-05-15T00:00:00Z  1953-05-15T00:00:00Z   1958-01-01T00:00:00Z   \n",
              "2      1953-05-29T00:00:00Z  1953-05-29T00:00:00Z   1960-02-01T00:00:00Z   \n",
              "3      1953-06-02T00:00:00Z  1953-06-02T00:00:00Z   1956-02-01T00:00:00Z   \n",
              "4      1953-06-06T00:00:00Z  1953-06-06T00:00:00Z   1955-12-01T00:00:00Z   \n",
              "...                     ...                   ...                    ...   \n",
              "63183  2022-08-04T00:00:00Z                   NaN                    NaN   \n",
              "63184  2022-07-25T00:00:00Z  2022-07-28T00:00:00Z                    NaN   \n",
              "63188  2022-05-29T00:00:00Z  2022-05-30T00:00:00Z                    NaN   \n",
              "63211  2022-08-14T00:00:00Z                   NaN                    NaN   \n",
              "63212  2022-08-18T00:00:00Z                   NaN                    NaN   \n",
              "\n",
              "        fips  place_code      designated_area  declaration_request_number  \\\n",
              "0      13000           0            Statewide                       53013   \n",
              "1      48000           0            Statewide                       53003   \n",
              "2      22000           0            Statewide                       53005   \n",
              "3      26000           0            Statewide                       53004   \n",
              "4      30000           0            Statewide                       53006   \n",
              "...      ...         ...                  ...                         ...   \n",
              "63183  53001       99001       Adams (County)                       22068   \n",
              "63184  29139       99139  Montgomery (County)                       22067   \n",
              "63188  27115       99115        Pine (County)                       22062   \n",
              "63211  32031       99031      Washoe (County)                       22070   \n",
              "63212  16085       99085      Valley (County)                       22072   \n",
              "\n",
              "       season  \n",
              "0      spring  \n",
              "1      spring  \n",
              "2      spring  \n",
              "3      summer  \n",
              "4      summer  \n",
              "...       ...  \n",
              "63183  summer  \n",
              "63184  summer  \n",
              "63188  summer  \n",
              "63211  summer  \n",
              "63212  summer  \n",
              "\n",
              "[4514 rows x 16 columns]"
            ],
            "text/html": [
              "\n",
              "  <div id=\"df-ef129a45-63be-4689-91e4-1fbf9df7eabc\">\n",
              "    <div class=\"colab-df-container\">\n",
              "      <div>\n",
              "<style scoped>\n",
              "    .dataframe tbody tr th:only-of-type {\n",
              "        vertical-align: middle;\n",
              "    }\n",
              "\n",
              "    .dataframe tbody tr th {\n",
              "        vertical-align: top;\n",
              "    }\n",
              "\n",
              "    .dataframe thead th {\n",
              "        text-align: right;\n",
              "    }\n",
              "</style>\n",
              "<table border=\"1\" class=\"dataframe\">\n",
              "  <thead>\n",
              "    <tr style=\"text-align: right;\">\n",
              "      <th></th>\n",
              "      <th>fema_declaration_string</th>\n",
              "      <th>disaster_number</th>\n",
              "      <th>state</th>\n",
              "      <th>declaration_type</th>\n",
              "      <th>declaration_date</th>\n",
              "      <th>fy_declared</th>\n",
              "      <th>incident_type</th>\n",
              "      <th>declaration_title</th>\n",
              "      <th>incident_begin_date</th>\n",
              "      <th>incident_end_date</th>\n",
              "      <th>disaster_closeout_date</th>\n",
              "      <th>fips</th>\n",
              "      <th>place_code</th>\n",
              "      <th>designated_area</th>\n",
              "      <th>declaration_request_number</th>\n",
              "      <th>season</th>\n",
              "    </tr>\n",
              "  </thead>\n",
              "  <tbody>\n",
              "    <tr>\n",
              "      <th>0</th>\n",
              "      <td>DR-1-GA</td>\n",
              "      <td>1</td>\n",
              "      <td>GA</td>\n",
              "      <td>DR</td>\n",
              "      <td>1953-05-02 00:00:00+00:00</td>\n",
              "      <td>1953</td>\n",
              "      <td>Tornado</td>\n",
              "      <td>Tornado</td>\n",
              "      <td>1953-05-02T00:00:00Z</td>\n",
              "      <td>1953-05-02T00:00:00Z</td>\n",
              "      <td>1954-06-01T00:00:00Z</td>\n",
              "      <td>13000</td>\n",
              "      <td>0</td>\n",
              "      <td>Statewide</td>\n",
              "      <td>53013</td>\n",
              "      <td>spring</td>\n",
              "    </tr>\n",
              "    <tr>\n",
              "      <th>1</th>\n",
              "      <td>DR-2-TX</td>\n",
              "      <td>2</td>\n",
              "      <td>TX</td>\n",
              "      <td>DR</td>\n",
              "      <td>1953-05-15 00:00:00+00:00</td>\n",
              "      <td>1953</td>\n",
              "      <td>Tornado</td>\n",
              "      <td>Tornado &amp; Heavy Rainfall</td>\n",
              "      <td>1953-05-15T00:00:00Z</td>\n",
              "      <td>1953-05-15T00:00:00Z</td>\n",
              "      <td>1958-01-01T00:00:00Z</td>\n",
              "      <td>48000</td>\n",
              "      <td>0</td>\n",
              "      <td>Statewide</td>\n",
              "      <td>53003</td>\n",
              "      <td>spring</td>\n",
              "    </tr>\n",
              "    <tr>\n",
              "      <th>2</th>\n",
              "      <td>DR-3-LA</td>\n",
              "      <td>3</td>\n",
              "      <td>LA</td>\n",
              "      <td>DR</td>\n",
              "      <td>1953-05-29 00:00:00+00:00</td>\n",
              "      <td>1953</td>\n",
              "      <td>Flood</td>\n",
              "      <td>Flood</td>\n",
              "      <td>1953-05-29T00:00:00Z</td>\n",
              "      <td>1953-05-29T00:00:00Z</td>\n",
              "      <td>1960-02-01T00:00:00Z</td>\n",
              "      <td>22000</td>\n",
              "      <td>0</td>\n",
              "      <td>Statewide</td>\n",
              "      <td>53005</td>\n",
              "      <td>spring</td>\n",
              "    </tr>\n",
              "    <tr>\n",
              "      <th>3</th>\n",
              "      <td>DR-4-MI</td>\n",
              "      <td>4</td>\n",
              "      <td>MI</td>\n",
              "      <td>DR</td>\n",
              "      <td>1953-06-02 00:00:00+00:00</td>\n",
              "      <td>1953</td>\n",
              "      <td>Tornado</td>\n",
              "      <td>Tornado</td>\n",
              "      <td>1953-06-02T00:00:00Z</td>\n",
              "      <td>1953-06-02T00:00:00Z</td>\n",
              "      <td>1956-02-01T00:00:00Z</td>\n",
              "      <td>26000</td>\n",
              "      <td>0</td>\n",
              "      <td>Statewide</td>\n",
              "      <td>53004</td>\n",
              "      <td>summer</td>\n",
              "    </tr>\n",
              "    <tr>\n",
              "      <th>4</th>\n",
              "      <td>DR-5-MT</td>\n",
              "      <td>5</td>\n",
              "      <td>MT</td>\n",
              "      <td>DR</td>\n",
              "      <td>1953-06-06 00:00:00+00:00</td>\n",
              "      <td>1953</td>\n",
              "      <td>Flood</td>\n",
              "      <td>Floods</td>\n",
              "      <td>1953-06-06T00:00:00Z</td>\n",
              "      <td>1953-06-06T00:00:00Z</td>\n",
              "      <td>1955-12-01T00:00:00Z</td>\n",
              "      <td>30000</td>\n",
              "      <td>0</td>\n",
              "      <td>Statewide</td>\n",
              "      <td>53006</td>\n",
              "      <td>summer</td>\n",
              "    </tr>\n",
              "    <tr>\n",
              "      <th>...</th>\n",
              "      <td>...</td>\n",
              "      <td>...</td>\n",
              "      <td>...</td>\n",
              "      <td>...</td>\n",
              "      <td>...</td>\n",
              "      <td>...</td>\n",
              "      <td>...</td>\n",
              "      <td>...</td>\n",
              "      <td>...</td>\n",
              "      <td>...</td>\n",
              "      <td>...</td>\n",
              "      <td>...</td>\n",
              "      <td>...</td>\n",
              "      <td>...</td>\n",
              "      <td>...</td>\n",
              "      <td>...</td>\n",
              "    </tr>\n",
              "    <tr>\n",
              "      <th>63183</th>\n",
              "      <td>FM-5447-WA</td>\n",
              "      <td>5447</td>\n",
              "      <td>WA</td>\n",
              "      <td>FM</td>\n",
              "      <td>2022-08-04 00:00:00+00:00</td>\n",
              "      <td>2022</td>\n",
              "      <td>Fire</td>\n",
              "      <td>Lind Fire</td>\n",
              "      <td>2022-08-04T00:00:00Z</td>\n",
              "      <td>NaN</td>\n",
              "      <td>NaN</td>\n",
              "      <td>53001</td>\n",
              "      <td>99001</td>\n",
              "      <td>Adams (County)</td>\n",
              "      <td>22068</td>\n",
              "      <td>summer</td>\n",
              "    </tr>\n",
              "    <tr>\n",
              "      <th>63184</th>\n",
              "      <td>DR-4665-MO</td>\n",
              "      <td>4665</td>\n",
              "      <td>MO</td>\n",
              "      <td>DR</td>\n",
              "      <td>2022-08-08 00:00:00+00:00</td>\n",
              "      <td>2022</td>\n",
              "      <td>Flood</td>\n",
              "      <td>Severe Storms And Flooding</td>\n",
              "      <td>2022-07-25T00:00:00Z</td>\n",
              "      <td>2022-07-28T00:00:00Z</td>\n",
              "      <td>NaN</td>\n",
              "      <td>29139</td>\n",
              "      <td>99139</td>\n",
              "      <td>Montgomery (County)</td>\n",
              "      <td>22067</td>\n",
              "      <td>summer</td>\n",
              "    </tr>\n",
              "    <tr>\n",
              "      <th>63188</th>\n",
              "      <td>DR-4666-MN</td>\n",
              "      <td>4666</td>\n",
              "      <td>MN</td>\n",
              "      <td>DR</td>\n",
              "      <td>2022-08-09 00:00:00+00:00</td>\n",
              "      <td>2022</td>\n",
              "      <td>Severe Storm(s)</td>\n",
              "      <td>Severe Storms, Straight-Line Winds, Tornadoes,...</td>\n",
              "      <td>2022-05-29T00:00:00Z</td>\n",
              "      <td>2022-05-30T00:00:00Z</td>\n",
              "      <td>NaN</td>\n",
              "      <td>27115</td>\n",
              "      <td>99115</td>\n",
              "      <td>Pine (County)</td>\n",
              "      <td>22062</td>\n",
              "      <td>summer</td>\n",
              "    </tr>\n",
              "    <tr>\n",
              "      <th>63211</th>\n",
              "      <td>FM-5448-NV</td>\n",
              "      <td>5448</td>\n",
              "      <td>NV</td>\n",
              "      <td>FM</td>\n",
              "      <td>2022-08-14 00:00:00+00:00</td>\n",
              "      <td>2022</td>\n",
              "      <td>Fire</td>\n",
              "      <td>Joy Lake Fire</td>\n",
              "      <td>2022-08-14T00:00:00Z</td>\n",
              "      <td>NaN</td>\n",
              "      <td>NaN</td>\n",
              "      <td>32031</td>\n",
              "      <td>99031</td>\n",
              "      <td>Washoe (County)</td>\n",
              "      <td>22070</td>\n",
              "      <td>summer</td>\n",
              "    </tr>\n",
              "    <tr>\n",
              "      <th>63212</th>\n",
              "      <td>FM-5449-ID</td>\n",
              "      <td>5449</td>\n",
              "      <td>ID</td>\n",
              "      <td>FM</td>\n",
              "      <td>2022-08-19 00:00:00+00:00</td>\n",
              "      <td>2022</td>\n",
              "      <td>Fire</td>\n",
              "      <td>Four Corners Fire</td>\n",
              "      <td>2022-08-18T00:00:00Z</td>\n",
              "      <td>NaN</td>\n",
              "      <td>NaN</td>\n",
              "      <td>16085</td>\n",
              "      <td>99085</td>\n",
              "      <td>Valley (County)</td>\n",
              "      <td>22072</td>\n",
              "      <td>summer</td>\n",
              "    </tr>\n",
              "  </tbody>\n",
              "</table>\n",
              "<p>4514 rows × 16 columns</p>\n",
              "</div>\n",
              "      <button class=\"colab-df-convert\" onclick=\"convertToInteractive('df-ef129a45-63be-4689-91e4-1fbf9df7eabc')\"\n",
              "              title=\"Convert this dataframe to an interactive table.\"\n",
              "              style=\"display:none;\">\n",
              "        \n",
              "  <svg xmlns=\"http://www.w3.org/2000/svg\" height=\"24px\"viewBox=\"0 0 24 24\"\n",
              "       width=\"24px\">\n",
              "    <path d=\"M0 0h24v24H0V0z\" fill=\"none\"/>\n",
              "    <path d=\"M18.56 5.44l.94 2.06.94-2.06 2.06-.94-2.06-.94-.94-2.06-.94 2.06-2.06.94zm-11 1L8.5 8.5l.94-2.06 2.06-.94-2.06-.94L8.5 2.5l-.94 2.06-2.06.94zm10 10l.94 2.06.94-2.06 2.06-.94-2.06-.94-.94-2.06-.94 2.06-2.06.94z\"/><path d=\"M17.41 7.96l-1.37-1.37c-.4-.4-.92-.59-1.43-.59-.52 0-1.04.2-1.43.59L10.3 9.45l-7.72 7.72c-.78.78-.78 2.05 0 2.83L4 21.41c.39.39.9.59 1.41.59.51 0 1.02-.2 1.41-.59l7.78-7.78 2.81-2.81c.8-.78.8-2.07 0-2.86zM5.41 20L4 18.59l7.72-7.72 1.47 1.35L5.41 20z\"/>\n",
              "  </svg>\n",
              "      </button>\n",
              "      \n",
              "  <style>\n",
              "    .colab-df-container {\n",
              "      display:flex;\n",
              "      flex-wrap:wrap;\n",
              "      gap: 12px;\n",
              "    }\n",
              "\n",
              "    .colab-df-convert {\n",
              "      background-color: #E8F0FE;\n",
              "      border: none;\n",
              "      border-radius: 50%;\n",
              "      cursor: pointer;\n",
              "      display: none;\n",
              "      fill: #1967D2;\n",
              "      height: 32px;\n",
              "      padding: 0 0 0 0;\n",
              "      width: 32px;\n",
              "    }\n",
              "\n",
              "    .colab-df-convert:hover {\n",
              "      background-color: #E2EBFA;\n",
              "      box-shadow: 0px 1px 2px rgba(60, 64, 67, 0.3), 0px 1px 3px 1px rgba(60, 64, 67, 0.15);\n",
              "      fill: #174EA6;\n",
              "    }\n",
              "\n",
              "    [theme=dark] .colab-df-convert {\n",
              "      background-color: #3B4455;\n",
              "      fill: #D2E3FC;\n",
              "    }\n",
              "\n",
              "    [theme=dark] .colab-df-convert:hover {\n",
              "      background-color: #434B5C;\n",
              "      box-shadow: 0px 1px 3px 1px rgba(0, 0, 0, 0.15);\n",
              "      filter: drop-shadow(0px 1px 2px rgba(0, 0, 0, 0.3));\n",
              "      fill: #FFFFFF;\n",
              "    }\n",
              "  </style>\n",
              "\n",
              "      <script>\n",
              "        const buttonEl =\n",
              "          document.querySelector('#df-ef129a45-63be-4689-91e4-1fbf9df7eabc button.colab-df-convert');\n",
              "        buttonEl.style.display =\n",
              "          google.colab.kernel.accessAllowed ? 'block' : 'none';\n",
              "\n",
              "        async function convertToInteractive(key) {\n",
              "          const element = document.querySelector('#df-ef129a45-63be-4689-91e4-1fbf9df7eabc');\n",
              "          const dataTable =\n",
              "            await google.colab.kernel.invokeFunction('convertToInteractive',\n",
              "                                                     [key], {});\n",
              "          if (!dataTable) return;\n",
              "\n",
              "          const docLinkHtml = 'Like what you see? Visit the ' +\n",
              "            '<a target=\"_blank\" href=https://colab.research.google.com/notebooks/data_table.ipynb>data table notebook</a>'\n",
              "            + ' to learn more about interactive tables.';\n",
              "          element.innerHTML = '';\n",
              "          dataTable['output_type'] = 'display_data';\n",
              "          await google.colab.output.renderOutput(dataTable, element);\n",
              "          const docLink = document.createElement('div');\n",
              "          docLink.innerHTML = docLinkHtml;\n",
              "          element.appendChild(docLink);\n",
              "        }\n",
              "      </script>\n",
              "    </div>\n",
              "  </div>\n",
              "  "
            ]
          },
          "metadata": {},
          "execution_count": 38
        }
      ]
    },
    {
      "cell_type": "markdown",
      "source": [
        "## Train test split\n",
        "\n",
        "based on the metadata (such as size\n",
        "and target class distribution) of your dataset, briefly outline your train/test percent split. Include the percentage for your golden holdout set if you plan to leave one out"
      ],
      "metadata": {
        "id": "8KOi0HTvrf3O"
      }
    },
    {
      "cell_type": "markdown",
      "source": [
        "## Establish an initial pipeline\n",
        "\n",
        "briefly describe the\n",
        "pipes you may need"
      ],
      "metadata": {
        "id": "OZmEexzUroeJ"
      }
    },
    {
      "cell_type": "markdown",
      "source": [
        "## Model fitting and evaluation\n",
        "\n",
        "list 1-3 assumptions you have about feature importance or how you anticipate your model’s performance will be"
      ],
      "metadata": {
        "id": "f_8BCKMKrvT1"
      }
    }
  ]
}