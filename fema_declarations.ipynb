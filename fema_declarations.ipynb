{
  "nbformat": 4,
  "nbformat_minor": 0,
  "metadata": {
    "colab": {
      "name": "Untitled0.ipynb",
      "provenance": [],
      "collapsed_sections": [],
      "include_colab_link": true
    },
    "kernelspec": {
      "name": "python3",
      "display_name": "Python 3"
    },
    "language_info": {
      "name": "python"
    }
  },
  "cells": [
    {
      "cell_type": "markdown",
      "metadata": {
        "id": "view-in-github",
        "colab_type": "text"
      },
      "source": [
        "<a href=\"https://colab.research.google.com/github/garrett-vangilder/CS5262/blob/week3-task-three/fema_declarations.ipynb\" target=\"_parent\"><img src=\"https://colab.research.google.com/assets/colab-badge.svg\" alt=\"Open In Colab\"/></a>"
      ]
    },
    {
      "cell_type": "markdown",
      "source": [
        "# Predicting Future Frequency of Disasters by State"
      ],
      "metadata": {
        "id": "M2HaMWjeNLwb"
      }
    },
    {
      "cell_type": "markdown",
      "source": [
        "## Background\n",
        "\n",
        "Extreme weather events are becoming more likely as the effects of climate change are realized. This can be seen in the plethora of wildfires throughout the West. The Federal Emergency Management Agency (FEMA) does not declare every extreme weather event a disaster, but through a workflow specified by the Stafford Act, state and federal leaders can work together to determine if federal aid is necessary. The type of aid given to individuals is broad. It can include financial gifts to individuals or small businesses with the intention of using the funds for temporary housing or repairs.\n",
        "\n",
        "Is it possible to use [historical FEMA declarations](https://www.kaggle.com/datasets/headsortails/us-natural-disaster-declarations) to determine the change in frequency of catastrophic weather events for a given state? Are catastrophic weather events becoming more prevalent?"
      ],
      "metadata": {
        "id": "wD2q85mMNi2P"
      }
    },
    {
      "cell_type": "markdown",
      "source": [
        "## Project Description\n",
        "\n",
        "Using historical FEMA disaster records, researchers can determine the likelihood of future disasters and disaster types when given a date and a state location. This could be useful in analyzing changes to local and federal funding for extreme weather events. This research can potentially be used as a proxy for defining the financial repercussions of climate change. When paired with a municipalities budget and other financial records, this data could help decide if funds are over or under-provisioned for disaster relief. Federal governments could extrapolate this data to inform federal funding better. There may even be a case for private real estate development firms to use this model when selecting the viability of significant projects for a given location. If developers are aware that there is a high likelihood of volatile weather throughout a given month range, then a developer may determine that it is best to start their project in a different month to prevent delays to their timeline.\n",
        "\n",
        "The overall goal of this model is to be used as an severe weather predictor by volume for states."
      ],
      "metadata": {
        "id": "PT8tQ1LwNpbE"
      }
    },
    {
      "cell_type": "markdown",
      "source": [
        "## Performance Metrics\n",
        "\n",
        "We will analyze the performance of this regression model through the mean squared error metric. This model will be considered a success if the prediction is within +/- 2 events for most states. To validate the model we will create a training dataset of all events before 2022, our test dataset will include the complete dataset, meaning that we will include 2022 disasters. "
      ],
      "metadata": {
        "id": "EcyySISPNveh"
      }
    },
    {
      "cell_type": "markdown",
      "source": [
        "### Exploratory Data Analysis\n",
        "\n",
        "Through my initial exploratory data analysis, I am looking to answer the following questions to understand my dataset better.\n",
        "\n",
        "1. Are all states represented, and if so which state is most prone to disasters?\n",
        "\n",
        "2. Are disasters becoming more or less common? How many disasters are there each year? Are there any outliers?\n",
        "\n",
        "3. What are the most common disaster types?\n",
        "\n",
        "4. Are there any correlated variables in my dataset? "
      ],
      "metadata": {
        "id": "Fdbb3-oQW-RF"
      }
    },
    {
      "cell_type": "code",
      "source": [
        "# Load commons libs\n",
        "import pandas as pd\n",
        "import numpy as np\n",
        "import seaborn as sns\n",
        "import matplotlib.pyplot as plt\n",
        "import datetime as dt"
      ],
      "metadata": {
        "id": "d1tCafpiZWlK"
      },
      "execution_count": 1,
      "outputs": []
    },
    {
      "cell_type": "markdown",
      "source": [
        "### Load Data\n",
        "\n",
        "We will injest our dataset, and the data dictionary.\n",
        "\n",
        "Data was initially sourced from FEMA, however it has been made public via [kaggle](https://www.kaggle.com/datasets/headsortails/us-natural-disaster-declarations)\n",
        "\n",
        "We wil source our data from a clone located in the corresponding [github repo](https://github.com/garrett-vangilder/CS5262)."
      ],
      "metadata": {
        "id": "lYHPqFlHZdBB"
      }
    },
    {
      "cell_type": "code",
      "source": [
        "data_dictionary = pd.read_csv('https://raw.githubusercontent.com/garrett-vangilder/CS5262/main/data_dictionary.csv')\n",
        "\n",
        "disasters = pd.read_csv('https://raw.githubusercontent.com/garrett-vangilder/CS5262/main/us_disaster_declarations.csv')\n"
      ],
      "metadata": {
        "id": "kWmTdxEzaIDO"
      },
      "execution_count": 2,
      "outputs": []
    },
    {
      "cell_type": "markdown",
      "source": [
        "#### Data Dictionary"
      ],
      "metadata": {
        "id": "OoxCfSd_aYtp"
      }
    },
    {
      "cell_type": "code",
      "source": [
        "display(data_dictionary)"
      ],
      "metadata": {
        "id": "7WQCu1aIaa-X",
        "outputId": "a5649ef9-dfe0-4f2a-e47b-0e129f57a91b",
        "colab": {
          "base_uri": "https://localhost:8080/",
          "height": 771
        }
      },
      "execution_count": 3,
      "outputs": [
        {
          "output_type": "display_data",
          "data": {
            "text/plain": [
              "                       feature  \\\n",
              "0      fema_declaration_string   \n",
              "1              disaster_number   \n",
              "2                        state   \n",
              "3             declaration_type   \n",
              "4             declaration_date   \n",
              "5                  fy_declared   \n",
              "6                incident_type   \n",
              "7            declaration_title   \n",
              "8          ih_program_declared   \n",
              "9          ia_program_declared   \n",
              "10         pa_program_declared   \n",
              "11         hm_program_declared   \n",
              "12         incident_begin_date   \n",
              "13           incident_end_date   \n",
              "14      disaster_closeout_date   \n",
              "15                        fips   \n",
              "16                  place_code   \n",
              "17             designated_area   \n",
              "18  declaration_request_number   \n",
              "19         last_ia_filing_date   \n",
              "20                        hash   \n",
              "21                          id   \n",
              "22                last_refresh   \n",
              "\n",
              "                                          description      type  \n",
              "0   codified identifier for disaster - declaration...    string  \n",
              "1     an incremented value used to designate an event   integer  \n",
              "2             US state or territory - formatted as XX    string  \n",
              "3   DR(\"major disaster\") or EM(\"emergency manageme...    string  \n",
              "4   date of disaster declaration formatted YYYY-MM...  datetime  \n",
              "5           fiscal year of declaration formatted YYYY   integer  \n",
              "6   classification of incident type example: \"Floo...   integer  \n",
              "7   generic identifier for incident typically huma...    string  \n",
              "8   boolean value denotes if the \"Individual and H...   boolean  \n",
              "9   boolean value denotes if the \"Individual Assis...   boolean  \n",
              "10  boolean value denotes if the \"Public Assistanc...   boolean  \n",
              "11  boolean value denotes if the \"Hazard Mitigatio...   boolean  \n",
              "12  date for the actual start of the incident (inc...  datetime  \n",
              "13  date for the actual end of the incident format...  datetime  \n",
              "14  date that specifies the financial closeout for...  datetime  \n",
              "15   codification of location of the event through...   integer  \n",
              "16  internal codification of a location for FEMA -...   integer  \n",
              "17  human-readable string describing the affected ...    string  \n",
              "18  identifier specific to the request to declare ...   integer  \n",
              "19  date of the last Individual Assistance program...  datetime  \n",
              "20                             MD5 Hash of the record    string  \n",
              "21                           unique record identifier      GUID  \n",
              "22  date of the last refresh from FEMA format: YYY...  datetime  "
            ],
            "text/html": [
              "\n",
              "  <div id=\"df-0c7191bf-4f7f-448d-992e-b2bed0d0f704\">\n",
              "    <div class=\"colab-df-container\">\n",
              "      <div>\n",
              "<style scoped>\n",
              "    .dataframe tbody tr th:only-of-type {\n",
              "        vertical-align: middle;\n",
              "    }\n",
              "\n",
              "    .dataframe tbody tr th {\n",
              "        vertical-align: top;\n",
              "    }\n",
              "\n",
              "    .dataframe thead th {\n",
              "        text-align: right;\n",
              "    }\n",
              "</style>\n",
              "<table border=\"1\" class=\"dataframe\">\n",
              "  <thead>\n",
              "    <tr style=\"text-align: right;\">\n",
              "      <th></th>\n",
              "      <th>feature</th>\n",
              "      <th>description</th>\n",
              "      <th>type</th>\n",
              "    </tr>\n",
              "  </thead>\n",
              "  <tbody>\n",
              "    <tr>\n",
              "      <th>0</th>\n",
              "      <td>fema_declaration_string</td>\n",
              "      <td>codified identifier for disaster - declaration...</td>\n",
              "      <td>string</td>\n",
              "    </tr>\n",
              "    <tr>\n",
              "      <th>1</th>\n",
              "      <td>disaster_number</td>\n",
              "      <td>an incremented value used to designate an event</td>\n",
              "      <td>integer</td>\n",
              "    </tr>\n",
              "    <tr>\n",
              "      <th>2</th>\n",
              "      <td>state</td>\n",
              "      <td>US state or territory - formatted as XX</td>\n",
              "      <td>string</td>\n",
              "    </tr>\n",
              "    <tr>\n",
              "      <th>3</th>\n",
              "      <td>declaration_type</td>\n",
              "      <td>DR(\"major disaster\") or EM(\"emergency manageme...</td>\n",
              "      <td>string</td>\n",
              "    </tr>\n",
              "    <tr>\n",
              "      <th>4</th>\n",
              "      <td>declaration_date</td>\n",
              "      <td>date of disaster declaration formatted YYYY-MM...</td>\n",
              "      <td>datetime</td>\n",
              "    </tr>\n",
              "    <tr>\n",
              "      <th>5</th>\n",
              "      <td>fy_declared</td>\n",
              "      <td>fiscal year of declaration formatted YYYY</td>\n",
              "      <td>integer</td>\n",
              "    </tr>\n",
              "    <tr>\n",
              "      <th>6</th>\n",
              "      <td>incident_type</td>\n",
              "      <td>classification of incident type example: \"Floo...</td>\n",
              "      <td>integer</td>\n",
              "    </tr>\n",
              "    <tr>\n",
              "      <th>7</th>\n",
              "      <td>declaration_title</td>\n",
              "      <td>generic identifier for incident typically huma...</td>\n",
              "      <td>string</td>\n",
              "    </tr>\n",
              "    <tr>\n",
              "      <th>8</th>\n",
              "      <td>ih_program_declared</td>\n",
              "      <td>boolean value denotes if the \"Individual and H...</td>\n",
              "      <td>boolean</td>\n",
              "    </tr>\n",
              "    <tr>\n",
              "      <th>9</th>\n",
              "      <td>ia_program_declared</td>\n",
              "      <td>boolean value denotes if the \"Individual Assis...</td>\n",
              "      <td>boolean</td>\n",
              "    </tr>\n",
              "    <tr>\n",
              "      <th>10</th>\n",
              "      <td>pa_program_declared</td>\n",
              "      <td>boolean value denotes if the \"Public Assistanc...</td>\n",
              "      <td>boolean</td>\n",
              "    </tr>\n",
              "    <tr>\n",
              "      <th>11</th>\n",
              "      <td>hm_program_declared</td>\n",
              "      <td>boolean value denotes if the \"Hazard Mitigatio...</td>\n",
              "      <td>boolean</td>\n",
              "    </tr>\n",
              "    <tr>\n",
              "      <th>12</th>\n",
              "      <td>incident_begin_date</td>\n",
              "      <td>date for the actual start of the incident (inc...</td>\n",
              "      <td>datetime</td>\n",
              "    </tr>\n",
              "    <tr>\n",
              "      <th>13</th>\n",
              "      <td>incident_end_date</td>\n",
              "      <td>date for the actual end of the incident format...</td>\n",
              "      <td>datetime</td>\n",
              "    </tr>\n",
              "    <tr>\n",
              "      <th>14</th>\n",
              "      <td>disaster_closeout_date</td>\n",
              "      <td>date that specifies the financial closeout for...</td>\n",
              "      <td>datetime</td>\n",
              "    </tr>\n",
              "    <tr>\n",
              "      <th>15</th>\n",
              "      <td>fips</td>\n",
              "      <td>codification of location of the event through...</td>\n",
              "      <td>integer</td>\n",
              "    </tr>\n",
              "    <tr>\n",
              "      <th>16</th>\n",
              "      <td>place_code</td>\n",
              "      <td>internal codification of a location for FEMA -...</td>\n",
              "      <td>integer</td>\n",
              "    </tr>\n",
              "    <tr>\n",
              "      <th>17</th>\n",
              "      <td>designated_area</td>\n",
              "      <td>human-readable string describing the affected ...</td>\n",
              "      <td>string</td>\n",
              "    </tr>\n",
              "    <tr>\n",
              "      <th>18</th>\n",
              "      <td>declaration_request_number</td>\n",
              "      <td>identifier specific to the request to declare ...</td>\n",
              "      <td>integer</td>\n",
              "    </tr>\n",
              "    <tr>\n",
              "      <th>19</th>\n",
              "      <td>last_ia_filing_date</td>\n",
              "      <td>date of the last Individual Assistance program...</td>\n",
              "      <td>datetime</td>\n",
              "    </tr>\n",
              "    <tr>\n",
              "      <th>20</th>\n",
              "      <td>hash</td>\n",
              "      <td>MD5 Hash of the record</td>\n",
              "      <td>string</td>\n",
              "    </tr>\n",
              "    <tr>\n",
              "      <th>21</th>\n",
              "      <td>id</td>\n",
              "      <td>unique record identifier</td>\n",
              "      <td>GUID</td>\n",
              "    </tr>\n",
              "    <tr>\n",
              "      <th>22</th>\n",
              "      <td>last_refresh</td>\n",
              "      <td>date of the last refresh from FEMA format: YYY...</td>\n",
              "      <td>datetime</td>\n",
              "    </tr>\n",
              "  </tbody>\n",
              "</table>\n",
              "</div>\n",
              "      <button class=\"colab-df-convert\" onclick=\"convertToInteractive('df-0c7191bf-4f7f-448d-992e-b2bed0d0f704')\"\n",
              "              title=\"Convert this dataframe to an interactive table.\"\n",
              "              style=\"display:none;\">\n",
              "        \n",
              "  <svg xmlns=\"http://www.w3.org/2000/svg\" height=\"24px\"viewBox=\"0 0 24 24\"\n",
              "       width=\"24px\">\n",
              "    <path d=\"M0 0h24v24H0V0z\" fill=\"none\"/>\n",
              "    <path d=\"M18.56 5.44l.94 2.06.94-2.06 2.06-.94-2.06-.94-.94-2.06-.94 2.06-2.06.94zm-11 1L8.5 8.5l.94-2.06 2.06-.94-2.06-.94L8.5 2.5l-.94 2.06-2.06.94zm10 10l.94 2.06.94-2.06 2.06-.94-2.06-.94-.94-2.06-.94 2.06-2.06.94z\"/><path d=\"M17.41 7.96l-1.37-1.37c-.4-.4-.92-.59-1.43-.59-.52 0-1.04.2-1.43.59L10.3 9.45l-7.72 7.72c-.78.78-.78 2.05 0 2.83L4 21.41c.39.39.9.59 1.41.59.51 0 1.02-.2 1.41-.59l7.78-7.78 2.81-2.81c.8-.78.8-2.07 0-2.86zM5.41 20L4 18.59l7.72-7.72 1.47 1.35L5.41 20z\"/>\n",
              "  </svg>\n",
              "      </button>\n",
              "      \n",
              "  <style>\n",
              "    .colab-df-container {\n",
              "      display:flex;\n",
              "      flex-wrap:wrap;\n",
              "      gap: 12px;\n",
              "    }\n",
              "\n",
              "    .colab-df-convert {\n",
              "      background-color: #E8F0FE;\n",
              "      border: none;\n",
              "      border-radius: 50%;\n",
              "      cursor: pointer;\n",
              "      display: none;\n",
              "      fill: #1967D2;\n",
              "      height: 32px;\n",
              "      padding: 0 0 0 0;\n",
              "      width: 32px;\n",
              "    }\n",
              "\n",
              "    .colab-df-convert:hover {\n",
              "      background-color: #E2EBFA;\n",
              "      box-shadow: 0px 1px 2px rgba(60, 64, 67, 0.3), 0px 1px 3px 1px rgba(60, 64, 67, 0.15);\n",
              "      fill: #174EA6;\n",
              "    }\n",
              "\n",
              "    [theme=dark] .colab-df-convert {\n",
              "      background-color: #3B4455;\n",
              "      fill: #D2E3FC;\n",
              "    }\n",
              "\n",
              "    [theme=dark] .colab-df-convert:hover {\n",
              "      background-color: #434B5C;\n",
              "      box-shadow: 0px 1px 3px 1px rgba(0, 0, 0, 0.15);\n",
              "      filter: drop-shadow(0px 1px 2px rgba(0, 0, 0, 0.3));\n",
              "      fill: #FFFFFF;\n",
              "    }\n",
              "  </style>\n",
              "\n",
              "      <script>\n",
              "        const buttonEl =\n",
              "          document.querySelector('#df-0c7191bf-4f7f-448d-992e-b2bed0d0f704 button.colab-df-convert');\n",
              "        buttonEl.style.display =\n",
              "          google.colab.kernel.accessAllowed ? 'block' : 'none';\n",
              "\n",
              "        async function convertToInteractive(key) {\n",
              "          const element = document.querySelector('#df-0c7191bf-4f7f-448d-992e-b2bed0d0f704');\n",
              "          const dataTable =\n",
              "            await google.colab.kernel.invokeFunction('convertToInteractive',\n",
              "                                                     [key], {});\n",
              "          if (!dataTable) return;\n",
              "\n",
              "          const docLinkHtml = 'Like what you see? Visit the ' +\n",
              "            '<a target=\"_blank\" href=https://colab.research.google.com/notebooks/data_table.ipynb>data table notebook</a>'\n",
              "            + ' to learn more about interactive tables.';\n",
              "          element.innerHTML = '';\n",
              "          dataTable['output_type'] = 'display_data';\n",
              "          await google.colab.output.renderOutput(dataTable, element);\n",
              "          const docLink = document.createElement('div');\n",
              "          docLink.innerHTML = docLinkHtml;\n",
              "          element.appendChild(docLink);\n",
              "        }\n",
              "      </script>\n",
              "    </div>\n",
              "  </div>\n",
              "  "
            ]
          },
          "metadata": {}
        }
      ]
    },
    {
      "cell_type": "markdown",
      "source": [
        "#### 1. Are all states represented, and if so which state is most prone to disasters?"
      ],
      "metadata": {
        "id": "M9fzittMak8m"
      }
    },
    {
      "cell_type": "code",
      "source": [
        "disasters.groupby('state').fema_declaration_string.nunique().sort_values(ascending=False)"
      ],
      "metadata": {
        "id": "SLuDgFWwao-H",
        "outputId": "d51ae1f6-e6a5-4bc2-9125-ddcaae09cdf4",
        "colab": {
          "base_uri": "https://localhost:8080/"
        }
      },
      "execution_count": 43,
      "outputs": [
        {
          "output_type": "execute_result",
          "data": {
            "text/plain": [
              "state\n",
              "TX    371\n",
              "CA    357\n",
              "OK    218\n",
              "WA    191\n",
              "FL    168\n",
              "OR    140\n",
              "NM    111\n",
              "NY    107\n",
              "AZ    106\n",
              "LA    101\n",
              "CO    101\n",
              "NV    100\n",
              "AL     99\n",
              "MT     98\n",
              "MS     90\n",
              "SD     87\n",
              "KY     86\n",
              "TN     83\n",
              "KS     82\n",
              "AR     79\n",
              "MO     77\n",
              "MN     77\n",
              "AK     77\n",
              "NE     76\n",
              "WV     75\n",
              "NC     73\n",
              "IA     73\n",
              "GA     72\n",
              "VA     72\n",
              "ND     67\n",
              "IL     64\n",
              "PA     63\n",
              "ME     63\n",
              "HI     61\n",
              "OH     59\n",
              "NJ     57\n",
              "NH     57\n",
              "MA     56\n",
              "WI     54\n",
              "ID     53\n",
              "VT     52\n",
              "UT     51\n",
              "IN     51\n",
              "PR     46\n",
              "MI     43\n",
              "CT     39\n",
              "SC     38\n",
              "WY     38\n",
              "MD     37\n",
              "VI     30\n",
              "RI     27\n",
              "DE     25\n",
              "DC     23\n",
              "MP     23\n",
              "FM     21\n",
              "GU     19\n",
              "AS     16\n",
              "MH      7\n",
              "PW      1\n",
              "Name: fema_declaration_string, dtype: int64"
            ]
          },
          "metadata": {},
          "execution_count": 43
        }
      ]
    },
    {
      "cell_type": "code",
      "source": [
        "len(disasters.groupby('state'))"
      ],
      "metadata": {
        "id": "d0i1AB2SchX-",
        "outputId": "7010e507-4ebe-4106-eba1-f0fdbd8283cb",
        "colab": {
          "base_uri": "https://localhost:8080/"
        }
      },
      "execution_count": 46,
      "outputs": [
        {
          "output_type": "execute_result",
          "data": {
            "text/plain": [
              "59"
            ]
          },
          "metadata": {},
          "execution_count": 46
        }
      ]
    }
  ]
}