{
  "nbformat": 4,
  "nbformat_minor": 0,
  "metadata": {
    "colab": {
      "name": "Untitled0.ipynb",
      "provenance": [],
      "collapsed_sections": [],
      "authorship_tag": "ABX9TyPorIyags9uxZy0X/A5al/t",
      "include_colab_link": true
    },
    "kernelspec": {
      "name": "python3",
      "display_name": "Python 3"
    },
    "language_info": {
      "name": "python"
    }
  },
  "cells": [
    {
      "cell_type": "markdown",
      "metadata": {
        "id": "view-in-github",
        "colab_type": "text"
      },
      "source": [
        "<a href=\"https://colab.research.google.com/github/garrett-vangilder/CS5265WeekOne/blob/main/fema_declarations.ipynb\" target=\"_parent\"><img src=\"https://colab.research.google.com/assets/colab-badge.svg\" alt=\"Open In Colab\"/></a>"
      ]
    },
    {
      "cell_type": "markdown",
      "source": [
        "# Will FEMA Delcare this Weather Event a Disaster?"
      ],
      "metadata": {
        "id": "M2HaMWjeNLwb"
      }
    },
    {
      "cell_type": "markdown",
      "source": [
        "## Background\n",
        "\n",
        "Extreme weather events are becoming more likely as the effects of climate change are realized. This can be seen in the plethora of wildfires throughout the West, or the active hurricane seasons around the gulf states and off of the Atlantic coast. The Federal Emergency Management Agency (FEMA) does not declare every extreme weather event a disaster, but through a workflow specified by the Stafford Act, state and federal leaders can work together to determine if federal aid is necessary. The type of aid given to individuals is wide, it can include financial gifts to individuals or small businesses with the intention for the funds to be used for temporary housing or repairs. \n",
        "\n",
        "Is it possible to use [historical FEMA declarations](https://www.kaggle.com/datasets/headsortails/us-natural-disaster-declarations) to determine the likelihood of a catastrophic weather event for a given region on any given day in the future? Are catastrophic weather events becoming more prevalent? "
      ],
      "metadata": {
        "id": "wD2q85mMNi2P"
      }
    },
    {
      "cell_type": "markdown",
      "source": [
        "## Project Description\n",
        "\n",
        "// TODO\n"
      ],
      "metadata": {
        "id": "PT8tQ1LwNpbE"
      }
    },
    {
      "cell_type": "markdown",
      "source": [
        "## Performance Metrics\n",
        "\n",
        "// TODO"
      ],
      "metadata": {
        "id": "EcyySISPNveh"
      }
    }
  ]
}