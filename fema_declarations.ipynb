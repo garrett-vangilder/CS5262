{
  "nbformat": 4,
  "nbformat_minor": 0,
  "metadata": {
    "colab": {
      "name": "Untitled0.ipynb",
      "provenance": [],
      "collapsed_sections": [],
      "include_colab_link": true
    },
    "kernelspec": {
      "name": "python3",
      "display_name": "Python 3"
    },
    "language_info": {
      "name": "python"
    }
  },
  "cells": [
    {
      "cell_type": "markdown",
      "metadata": {
        "id": "view-in-github",
        "colab_type": "text"
      },
      "source": [
        "<a href=\"https://colab.research.google.com/github/garrett-vangilder/CS5262/blob/main/fema_declarations.ipynb\" target=\"_parent\"><img src=\"https://colab.research.google.com/assets/colab-badge.svg\" alt=\"Open In Colab\"/></a>"
      ]
    },
    {
      "cell_type": "markdown",
      "source": [
        "# Predicting Type of Disasters by Heuristics"
      ],
      "metadata": {
        "id": "M2HaMWjeNLwb"
      }
    },
    {
      "cell_type": "markdown",
      "source": [
        "## Background\n",
        "\n",
        "Extreme weather events are becoming more likely as the effects of climate change are realized. This can be seen in the plethora of wildfires throughout the West. The Federal Emergency Management Agency (FEMA) does not declare every extreme weather event a disaster, but through a workflow specified by the Stafford Act, state and federal leaders can work together to determine if federal aid is necessary. The type of aid given to individuals is broad. It can include financial gifts to individuals or small businesses with the intention of using the funds for temporary housing or repairs.\n",
        "\n",
        "Is it possible to use [heuristics gathered by FEMA](https://www.kaggle.com/datasets/headsortails/us-natural-disaster-declarations) to determine the type of incident?"
      ],
      "metadata": {
        "id": "wD2q85mMNi2P"
      }
    },
    {
      "cell_type": "markdown",
      "source": [
        "## Project Description\n",
        "\n",
        "Using historical FEMA disaster records, researchers may determine the disaster types when given a date and a state location. This could be useful in analyzing changes to local and federal funding for extreme weather events since different disasters require different types of services. This research can potentially be used as a proxy for defining the financial repercussions of climate change. When paired with a municipalities budget and other financial records, this data could help decide if funds are over or under-provisioned for disaster relief. Federal governments could extrapolate this data to inform federal funding better. There may even be a case for private real estate development firms to use this model when selecting the viability of significant projects for a given location due to changing weather patterns.\n",
        "\n",
        "The overall goal of this model is to be used as an severe weather predictor by disaster type for states and seasons."
      ],
      "metadata": {
        "id": "PT8tQ1LwNpbE"
      }
    },
    {
      "cell_type": "markdown",
      "source": [
        "## Performance Metrics\n",
        "\n",
        "We will analyze the performance of this classification model through the receiver operating characteristics curve. This model will be considered a success if the classification is greater than 50% for test cases."
      ],
      "metadata": {
        "id": "EcyySISPNveh"
      }
    },
    {
      "cell_type": "markdown",
      "source": [
        "## Exploratory Data Analysis\n",
        "\n",
        "Through my initial exploratory data analysis, I am looking to answer the following questions to understand my dataset better.\n",
        "\n",
        "1. Are all states represented, and if so which state is most prone to disasters?\n",
        "\n",
        "2. Are disasters becoming more or less common? How many disasters are there each year?\n",
        "\n",
        "3. What are the most common disaster types?\n",
        "\n",
        "4. Are there any correlated variables in my dataset? "
      ],
      "metadata": {
        "id": "Fdbb3-oQW-RF"
      }
    },
    {
      "cell_type": "code",
      "source": [
        "import pandas as pd\n",
        "import numpy as np\n",
        "import seaborn as sns\n",
        "import matplotlib.pyplot as plt\n",
        "import datetime as dt"
      ],
      "metadata": {
        "id": "d1tCafpiZWlK"
      },
      "execution_count": 140,
      "outputs": []
    },
    {
      "cell_type": "markdown",
      "source": [
        "#### Load Data\n",
        "\n",
        "We will injest our dataset, and the data dictionary.\n",
        "\n",
        "Data was initially sourced from FEMA, however it has been made public via [kaggle](https://www.kaggle.com/datasets/headsortails/us-natural-disaster-declarations)\n",
        "\n",
        "We wil source our data from a clone located in the corresponding [github repo](https://github.com/garrett-vangilder/CS5262)."
      ],
      "metadata": {
        "id": "lYHPqFlHZdBB"
      }
    },
    {
      "cell_type": "code",
      "source": [
        "data_dictionary = pd.read_csv('https://raw.githubusercontent.com/garrett-vangilder/CS5262/main/data_dictionary.csv')\n",
        "\n",
        "disasters = pd.read_csv('https://raw.githubusercontent.com/garrett-vangilder/CS5262/main/us_disaster_declarations.csv')\n"
      ],
      "metadata": {
        "id": "kWmTdxEzaIDO"
      },
      "execution_count": 141,
      "outputs": []
    },
    {
      "cell_type": "markdown",
      "source": [
        "#### Data Dictionary"
      ],
      "metadata": {
        "id": "OoxCfSd_aYtp"
      }
    },
    {
      "cell_type": "code",
      "source": [
        "display(data_dictionary)"
      ],
      "metadata": {
        "colab": {
          "base_uri": "https://localhost:8080/",
          "height": 771
        },
        "id": "7WQCu1aIaa-X",
        "outputId": "937c6923-5396-4056-967c-ad607049c817"
      },
      "execution_count": 142,
      "outputs": [
        {
          "output_type": "display_data",
          "data": {
            "text/plain": [
              "                       feature  \\\n",
              "0      fema_declaration_string   \n",
              "1              disaster_number   \n",
              "2                        state   \n",
              "3             declaration_type   \n",
              "4             declaration_date   \n",
              "5                  fy_declared   \n",
              "6                incident_type   \n",
              "7            declaration_title   \n",
              "8          ih_program_declared   \n",
              "9          ia_program_declared   \n",
              "10         pa_program_declared   \n",
              "11         hm_program_declared   \n",
              "12         incident_begin_date   \n",
              "13           incident_end_date   \n",
              "14      disaster_closeout_date   \n",
              "15                        fips   \n",
              "16                  place_code   \n",
              "17             designated_area   \n",
              "18  declaration_request_number   \n",
              "19         last_ia_filing_date   \n",
              "20                        hash   \n",
              "21                          id   \n",
              "22                last_refresh   \n",
              "\n",
              "                                          description      type  \n",
              "0   codified identifier for disaster - declaration...    string  \n",
              "1     an incremented value used to designate an event   integer  \n",
              "2             US state or territory - formatted as XX    string  \n",
              "3   DR(\"major disaster\") or EM(\"emergency manageme...    string  \n",
              "4   date of disaster declaration formatted YYYY-MM...  datetime  \n",
              "5           fiscal year of declaration formatted YYYY   integer  \n",
              "6   classification of incident type example: \"Floo...   integer  \n",
              "7   generic identifier for incident typically huma...    string  \n",
              "8   boolean value denotes if the \"Individual and H...   boolean  \n",
              "9   boolean value denotes if the \"Individual Assis...   boolean  \n",
              "10  boolean value denotes if the \"Public Assistanc...   boolean  \n",
              "11  boolean value denotes if the \"Hazard Mitigatio...   boolean  \n",
              "12  date for the actual start of the incident (inc...  datetime  \n",
              "13  date for the actual end of the incident format...  datetime  \n",
              "14  date that specifies the financial closeout for...  datetime  \n",
              "15   codification of location of the event through...   integer  \n",
              "16  internal codification of a location for FEMA -...   integer  \n",
              "17  human-readable string describing the affected ...    string  \n",
              "18  identifier specific to the request to declare ...   integer  \n",
              "19  date of the last Individual Assistance program...  datetime  \n",
              "20                             MD5 Hash of the record    string  \n",
              "21                           unique record identifier      GUID  \n",
              "22  date of the last refresh from FEMA format: YYY...  datetime  "
            ],
            "text/html": [
              "\n",
              "  <div id=\"df-216cf1a0-af48-4543-b1ac-8773ae211236\">\n",
              "    <div class=\"colab-df-container\">\n",
              "      <div>\n",
              "<style scoped>\n",
              "    .dataframe tbody tr th:only-of-type {\n",
              "        vertical-align: middle;\n",
              "    }\n",
              "\n",
              "    .dataframe tbody tr th {\n",
              "        vertical-align: top;\n",
              "    }\n",
              "\n",
              "    .dataframe thead th {\n",
              "        text-align: right;\n",
              "    }\n",
              "</style>\n",
              "<table border=\"1\" class=\"dataframe\">\n",
              "  <thead>\n",
              "    <tr style=\"text-align: right;\">\n",
              "      <th></th>\n",
              "      <th>feature</th>\n",
              "      <th>description</th>\n",
              "      <th>type</th>\n",
              "    </tr>\n",
              "  </thead>\n",
              "  <tbody>\n",
              "    <tr>\n",
              "      <th>0</th>\n",
              "      <td>fema_declaration_string</td>\n",
              "      <td>codified identifier for disaster - declaration...</td>\n",
              "      <td>string</td>\n",
              "    </tr>\n",
              "    <tr>\n",
              "      <th>1</th>\n",
              "      <td>disaster_number</td>\n",
              "      <td>an incremented value used to designate an event</td>\n",
              "      <td>integer</td>\n",
              "    </tr>\n",
              "    <tr>\n",
              "      <th>2</th>\n",
              "      <td>state</td>\n",
              "      <td>US state or territory - formatted as XX</td>\n",
              "      <td>string</td>\n",
              "    </tr>\n",
              "    <tr>\n",
              "      <th>3</th>\n",
              "      <td>declaration_type</td>\n",
              "      <td>DR(\"major disaster\") or EM(\"emergency manageme...</td>\n",
              "      <td>string</td>\n",
              "    </tr>\n",
              "    <tr>\n",
              "      <th>4</th>\n",
              "      <td>declaration_date</td>\n",
              "      <td>date of disaster declaration formatted YYYY-MM...</td>\n",
              "      <td>datetime</td>\n",
              "    </tr>\n",
              "    <tr>\n",
              "      <th>5</th>\n",
              "      <td>fy_declared</td>\n",
              "      <td>fiscal year of declaration formatted YYYY</td>\n",
              "      <td>integer</td>\n",
              "    </tr>\n",
              "    <tr>\n",
              "      <th>6</th>\n",
              "      <td>incident_type</td>\n",
              "      <td>classification of incident type example: \"Floo...</td>\n",
              "      <td>integer</td>\n",
              "    </tr>\n",
              "    <tr>\n",
              "      <th>7</th>\n",
              "      <td>declaration_title</td>\n",
              "      <td>generic identifier for incident typically huma...</td>\n",
              "      <td>string</td>\n",
              "    </tr>\n",
              "    <tr>\n",
              "      <th>8</th>\n",
              "      <td>ih_program_declared</td>\n",
              "      <td>boolean value denotes if the \"Individual and H...</td>\n",
              "      <td>boolean</td>\n",
              "    </tr>\n",
              "    <tr>\n",
              "      <th>9</th>\n",
              "      <td>ia_program_declared</td>\n",
              "      <td>boolean value denotes if the \"Individual Assis...</td>\n",
              "      <td>boolean</td>\n",
              "    </tr>\n",
              "    <tr>\n",
              "      <th>10</th>\n",
              "      <td>pa_program_declared</td>\n",
              "      <td>boolean value denotes if the \"Public Assistanc...</td>\n",
              "      <td>boolean</td>\n",
              "    </tr>\n",
              "    <tr>\n",
              "      <th>11</th>\n",
              "      <td>hm_program_declared</td>\n",
              "      <td>boolean value denotes if the \"Hazard Mitigatio...</td>\n",
              "      <td>boolean</td>\n",
              "    </tr>\n",
              "    <tr>\n",
              "      <th>12</th>\n",
              "      <td>incident_begin_date</td>\n",
              "      <td>date for the actual start of the incident (inc...</td>\n",
              "      <td>datetime</td>\n",
              "    </tr>\n",
              "    <tr>\n",
              "      <th>13</th>\n",
              "      <td>incident_end_date</td>\n",
              "      <td>date for the actual end of the incident format...</td>\n",
              "      <td>datetime</td>\n",
              "    </tr>\n",
              "    <tr>\n",
              "      <th>14</th>\n",
              "      <td>disaster_closeout_date</td>\n",
              "      <td>date that specifies the financial closeout for...</td>\n",
              "      <td>datetime</td>\n",
              "    </tr>\n",
              "    <tr>\n",
              "      <th>15</th>\n",
              "      <td>fips</td>\n",
              "      <td>codification of location of the event through...</td>\n",
              "      <td>integer</td>\n",
              "    </tr>\n",
              "    <tr>\n",
              "      <th>16</th>\n",
              "      <td>place_code</td>\n",
              "      <td>internal codification of a location for FEMA -...</td>\n",
              "      <td>integer</td>\n",
              "    </tr>\n",
              "    <tr>\n",
              "      <th>17</th>\n",
              "      <td>designated_area</td>\n",
              "      <td>human-readable string describing the affected ...</td>\n",
              "      <td>string</td>\n",
              "    </tr>\n",
              "    <tr>\n",
              "      <th>18</th>\n",
              "      <td>declaration_request_number</td>\n",
              "      <td>identifier specific to the request to declare ...</td>\n",
              "      <td>integer</td>\n",
              "    </tr>\n",
              "    <tr>\n",
              "      <th>19</th>\n",
              "      <td>last_ia_filing_date</td>\n",
              "      <td>date of the last Individual Assistance program...</td>\n",
              "      <td>datetime</td>\n",
              "    </tr>\n",
              "    <tr>\n",
              "      <th>20</th>\n",
              "      <td>hash</td>\n",
              "      <td>MD5 Hash of the record</td>\n",
              "      <td>string</td>\n",
              "    </tr>\n",
              "    <tr>\n",
              "      <th>21</th>\n",
              "      <td>id</td>\n",
              "      <td>unique record identifier</td>\n",
              "      <td>GUID</td>\n",
              "    </tr>\n",
              "    <tr>\n",
              "      <th>22</th>\n",
              "      <td>last_refresh</td>\n",
              "      <td>date of the last refresh from FEMA format: YYY...</td>\n",
              "      <td>datetime</td>\n",
              "    </tr>\n",
              "  </tbody>\n",
              "</table>\n",
              "</div>\n",
              "      <button class=\"colab-df-convert\" onclick=\"convertToInteractive('df-216cf1a0-af48-4543-b1ac-8773ae211236')\"\n",
              "              title=\"Convert this dataframe to an interactive table.\"\n",
              "              style=\"display:none;\">\n",
              "        \n",
              "  <svg xmlns=\"http://www.w3.org/2000/svg\" height=\"24px\"viewBox=\"0 0 24 24\"\n",
              "       width=\"24px\">\n",
              "    <path d=\"M0 0h24v24H0V0z\" fill=\"none\"/>\n",
              "    <path d=\"M18.56 5.44l.94 2.06.94-2.06 2.06-.94-2.06-.94-.94-2.06-.94 2.06-2.06.94zm-11 1L8.5 8.5l.94-2.06 2.06-.94-2.06-.94L8.5 2.5l-.94 2.06-2.06.94zm10 10l.94 2.06.94-2.06 2.06-.94-2.06-.94-.94-2.06-.94 2.06-2.06.94z\"/><path d=\"M17.41 7.96l-1.37-1.37c-.4-.4-.92-.59-1.43-.59-.52 0-1.04.2-1.43.59L10.3 9.45l-7.72 7.72c-.78.78-.78 2.05 0 2.83L4 21.41c.39.39.9.59 1.41.59.51 0 1.02-.2 1.41-.59l7.78-7.78 2.81-2.81c.8-.78.8-2.07 0-2.86zM5.41 20L4 18.59l7.72-7.72 1.47 1.35L5.41 20z\"/>\n",
              "  </svg>\n",
              "      </button>\n",
              "      \n",
              "  <style>\n",
              "    .colab-df-container {\n",
              "      display:flex;\n",
              "      flex-wrap:wrap;\n",
              "      gap: 12px;\n",
              "    }\n",
              "\n",
              "    .colab-df-convert {\n",
              "      background-color: #E8F0FE;\n",
              "      border: none;\n",
              "      border-radius: 50%;\n",
              "      cursor: pointer;\n",
              "      display: none;\n",
              "      fill: #1967D2;\n",
              "      height: 32px;\n",
              "      padding: 0 0 0 0;\n",
              "      width: 32px;\n",
              "    }\n",
              "\n",
              "    .colab-df-convert:hover {\n",
              "      background-color: #E2EBFA;\n",
              "      box-shadow: 0px 1px 2px rgba(60, 64, 67, 0.3), 0px 1px 3px 1px rgba(60, 64, 67, 0.15);\n",
              "      fill: #174EA6;\n",
              "    }\n",
              "\n",
              "    [theme=dark] .colab-df-convert {\n",
              "      background-color: #3B4455;\n",
              "      fill: #D2E3FC;\n",
              "    }\n",
              "\n",
              "    [theme=dark] .colab-df-convert:hover {\n",
              "      background-color: #434B5C;\n",
              "      box-shadow: 0px 1px 3px 1px rgba(0, 0, 0, 0.15);\n",
              "      filter: drop-shadow(0px 1px 2px rgba(0, 0, 0, 0.3));\n",
              "      fill: #FFFFFF;\n",
              "    }\n",
              "  </style>\n",
              "\n",
              "      <script>\n",
              "        const buttonEl =\n",
              "          document.querySelector('#df-216cf1a0-af48-4543-b1ac-8773ae211236 button.colab-df-convert');\n",
              "        buttonEl.style.display =\n",
              "          google.colab.kernel.accessAllowed ? 'block' : 'none';\n",
              "\n",
              "        async function convertToInteractive(key) {\n",
              "          const element = document.querySelector('#df-216cf1a0-af48-4543-b1ac-8773ae211236');\n",
              "          const dataTable =\n",
              "            await google.colab.kernel.invokeFunction('convertToInteractive',\n",
              "                                                     [key], {});\n",
              "          if (!dataTable) return;\n",
              "\n",
              "          const docLinkHtml = 'Like what you see? Visit the ' +\n",
              "            '<a target=\"_blank\" href=https://colab.research.google.com/notebooks/data_table.ipynb>data table notebook</a>'\n",
              "            + ' to learn more about interactive tables.';\n",
              "          element.innerHTML = '';\n",
              "          dataTable['output_type'] = 'display_data';\n",
              "          await google.colab.output.renderOutput(dataTable, element);\n",
              "          const docLink = document.createElement('div');\n",
              "          docLink.innerHTML = docLinkHtml;\n",
              "          element.appendChild(docLink);\n",
              "        }\n",
              "      </script>\n",
              "    </div>\n",
              "  </div>\n",
              "  "
            ]
          },
          "metadata": {}
        }
      ]
    },
    {
      "cell_type": "markdown",
      "source": [
        "#### 1. Are all states represented, and if so which state is most prone to disasters?"
      ],
      "metadata": {
        "id": "M9fzittMak8m"
      }
    },
    {
      "cell_type": "code",
      "source": [
        "disasters.groupby('state').fema_declaration_string.nunique().sort_values(ascending=False)\n"
      ],
      "metadata": {
        "colab": {
          "base_uri": "https://localhost:8080/"
        },
        "id": "SLuDgFWwao-H",
        "outputId": "8deca9e1-e7b9-485c-8253-82aca5b056fe"
      },
      "execution_count": 143,
      "outputs": [
        {
          "output_type": "execute_result",
          "data": {
            "text/plain": [
              "state\n",
              "TX    371\n",
              "CA    357\n",
              "OK    218\n",
              "WA    191\n",
              "FL    168\n",
              "OR    140\n",
              "NM    111\n",
              "NY    107\n",
              "AZ    106\n",
              "LA    101\n",
              "CO    101\n",
              "NV    100\n",
              "AL     99\n",
              "MT     98\n",
              "MS     90\n",
              "SD     87\n",
              "KY     86\n",
              "TN     83\n",
              "KS     82\n",
              "AR     79\n",
              "MO     77\n",
              "MN     77\n",
              "AK     77\n",
              "NE     76\n",
              "WV     75\n",
              "NC     73\n",
              "IA     73\n",
              "GA     72\n",
              "VA     72\n",
              "ND     67\n",
              "IL     64\n",
              "PA     63\n",
              "ME     63\n",
              "HI     61\n",
              "OH     59\n",
              "NJ     57\n",
              "NH     57\n",
              "MA     56\n",
              "WI     54\n",
              "ID     53\n",
              "VT     52\n",
              "UT     51\n",
              "IN     51\n",
              "PR     46\n",
              "MI     43\n",
              "CT     39\n",
              "SC     38\n",
              "WY     38\n",
              "MD     37\n",
              "VI     30\n",
              "RI     27\n",
              "DE     25\n",
              "DC     23\n",
              "MP     23\n",
              "FM     21\n",
              "GU     19\n",
              "AS     16\n",
              "MH      7\n",
              "PW      1\n",
              "Name: fema_declaration_string, dtype: int64"
            ]
          },
          "metadata": {},
          "execution_count": 143
        }
      ]
    },
    {
      "cell_type": "code",
      "source": [
        "len(disasters.groupby('state'))"
      ],
      "metadata": {
        "colab": {
          "base_uri": "https://localhost:8080/"
        },
        "id": "d0i1AB2SchX-",
        "outputId": "d2d017ac-326b-42b8-d303-9e5d923d2a93"
      },
      "execution_count": 144,
      "outputs": [
        {
          "output_type": "execute_result",
          "data": {
            "text/plain": [
              "59"
            ]
          },
          "metadata": {},
          "execution_count": 144
        }
      ]
    },
    {
      "cell_type": "markdown",
      "source": [
        "All states are represented in the dataset, however it seems that there are multiple rows per unique incident, moving forward all queries will filter data for unique entries by FEMA declaration string."
      ],
      "metadata": {
        "id": "lIgXMqx2m8Ht"
      }
    },
    {
      "cell_type": "markdown",
      "source": [
        "#### 2. Are disasters becoming more or less common? How many disasters are there each year?"
      ],
      "metadata": {
        "id": "oLdJVs6EgtI3"
      }
    },
    {
      "cell_type": "code",
      "source": [
        "disaster_count_by_year = disasters.groupby('fy_declared').fema_declaration_string.nunique().sort_index()\n",
        "sns.lineplot(data=disaster_count_by_year);"
      ],
      "metadata": {
        "id": "VmUIxJp7gouO",
        "outputId": "2d93bdff-ca83-4974-fced-6ff4ba64bb77",
        "colab": {
          "base_uri": "https://localhost:8080/",
          "height": 280
        }
      },
      "execution_count": 145,
      "outputs": [
        {
          "output_type": "display_data",
          "data": {
            "text/plain": [
              "<Figure size 432x288 with 1 Axes>"
            ],
            "image/png": "[encoded data removed]"
          },
          "metadata": {
            "needs_background": "light"
          }
        }
      ]
    },
    {
      "cell_type": "code",
      "source": [
        "disaster_count_by_year.mean()"
      ],
      "metadata": {
        "id": "UjUUCbZQkg-m",
        "outputId": "4dc84d7f-d87a-4f9e-fbfe-dcca4560433e",
        "colab": {
          "base_uri": "https://localhost:8080/"
        }
      },
      "execution_count": 146,
      "outputs": [
        {
          "output_type": "execute_result",
          "data": {
            "text/plain": [
              "66.97142857142858"
            ]
          },
          "metadata": {},
          "execution_count": 146
        }
      ]
    },
    {
      "cell_type": "markdown",
      "source": [
        "It seems that there are generally more FEMA incidents in the recent future compared to past events. "
      ],
      "metadata": {
        "id": "fDqFDSEynLq1"
      }
    },
    {
      "cell_type": "markdown",
      "source": [
        "#### 3. What are the most common disaster types?\n"
      ],
      "metadata": {
        "id": "20XRb0eakvTT"
      }
    },
    {
      "cell_type": "code",
      "source": [
        "disasters.groupby('incident_type').fema_declaration_string.nunique().sort_values(ascending=False)"
      ],
      "metadata": {
        "id": "avlLLe0Bkuoa",
        "outputId": "076d7bc3-781f-49ab-d6fd-7433ca453ec7",
        "colab": {
          "base_uri": "https://localhost:8080/"
        }
      },
      "execution_count": 147,
      "outputs": [
        {
          "output_type": "execute_result",
          "data": {
            "text/plain": [
              "incident_type\n",
              "Fire                1542\n",
              "Severe Storm(s)     1017\n",
              "Flood                853\n",
              "Hurricane            425\n",
              "Tornado              177\n",
              "Snow                 169\n",
              "Biological           167\n",
              "Severe Ice Storm      74\n",
              "Typhoon               58\n",
              "Drought               46\n",
              "Earthquake            35\n",
              "Other                 31\n",
              "Coastal Storm         31\n",
              "Freezing              18\n",
              "Mud/Landslide          9\n",
              "Toxic Substances       8\n",
              "Fishing Losses         6\n",
              "Dam/Levee Break        6\n",
              "Volcano                6\n",
              "Human Cause            4\n",
              "Tsunami                3\n",
              "Terrorist              2\n",
              "Chemical               1\n",
              "Name: fema_declaration_string, dtype: int64"
            ]
          },
          "metadata": {},
          "execution_count": 147
        }
      ]
    },
    {
      "cell_type": "markdown",
      "source": [
        "Natural disasters seem to be the most common disaster, however it is interesting to note that there are chemical, terrorist, and generally human-centric disasters that do qualify for FEMA assistance. "
      ],
      "metadata": {
        "id": "iGxIDpdNnbOR"
      }
    },
    {
      "cell_type": "markdown",
      "source": [
        "#### 4. Are there any correlated variables in my dataset?"
      ],
      "metadata": {
        "id": "je5zA12Alz_-"
      }
    },
    {
      "cell_type": "code",
      "source": [
        "sns.heatmap(disasters.corr())"
      ],
      "metadata": {
        "id": "adPvsmopl1tJ",
        "outputId": "72954dbb-e1b6-475d-90c6-8acab7cba360",
        "colab": {
          "base_uri": "https://localhost:8080/",
          "height": 420
        }
      },
      "execution_count": 148,
      "outputs": [
        {
          "output_type": "execute_result",
          "data": {
            "text/plain": [
              "<matplotlib.axes._subplots.AxesSubplot at 0x7f9091b41d50>"
            ]
          },
          "metadata": {},
          "execution_count": 148
        },
        {
          "output_type": "display_data",
          "data": {
            "text/plain": [
              "<Figure size 432x288 with 2 Axes>"
            ],
            "image/png": "[encoded data removed]"
          },
          "metadata": {
            "needs_background": "light"
          }
        }
      ]
    },
    {
      "cell_type": "markdown",
      "source": [
        "`disaster_number` and `fy_declaraed` correspond, this is not a surprise since `disaster_number` increments, as do years. "
      ],
      "metadata": {
        "id": "td21p0xvnrIy"
      }
    },
    {
      "cell_type": "markdown",
      "source": [
        "## Feature engineering\n",
        "\n",
        "Due to the nature of our dataset, we will need to perform some transformations to better train our model. We are interested in disasters that are weather related, meaning we will also need to perform some operations to clean or remove rows from our dataset. \n",
        "\n",
        "We will remove rows with the following `incident_type`\n",
        "1. Biological\n",
        "2. Toxic Substance\n",
        "3. Human Cause\n",
        "4. Terrorist\n",
        "5. Chemical\n",
        "\n",
        "We will maintain `Fishing Losses` and `Dam/Levee Break` since they theoretically could be caused by extreme weather patterns. Human cause via climate migration is also outside the scope of this model. \n",
        "\n",
        "Disasters that persist over a larger time period are over valued in this model, we are not looking into the length of a model but instead we are interested in unique events. Because of this we will enforce a uniqueness to `fema_declaration_string` meaning that only the initial row for a declaration string will be used. \n",
        "\n",
        "`season` will be added - this will be specific to the `incident_begin_date` and for simplicities will be specific to a given subset of months\n",
        "\n",
        "- Winter: Dec, Jan, Feb\n",
        "- Spring: Mar, Apr, May\n",
        "- Summer: Jun, Jul, Aug\n",
        "- Fall: Sept, Oct, Nov\n"
      ],
      "metadata": {
        "id": "qZx6G6nBrW9i"
      }
    },
    {
      "cell_type": "code",
      "source": [
        "# Drop non weather specific events\n",
        "it_to_drop = ['Biological', 'Toxic Substance', 'Human Cause', 'Terrorist', 'Chemical']\n",
        "\n",
        "disasters = disasters[~disasters.incident_type.isin(it_to_drop)]\n"
      ],
      "metadata": {
        "id": "Tav7OqSFqrBn"
      },
      "execution_count": 149,
      "outputs": []
    },
    {
      "cell_type": "code",
      "source": [
        "# Drop all but first entry by fema_declaration_string\n",
        "disasters = disasters.drop_duplicates(subset=['fema_declaration_string'])"
      ],
      "metadata": {
        "id": "0fTBNQkTuwct"
      },
      "execution_count": 150,
      "outputs": []
    },
    {
      "cell_type": "code",
      "source": [
        "# Add seasons\n",
        "WINTER = 'winter'\n",
        "SPRING = 'spring'\n",
        "SUMMER = 'summer'\n",
        "FALL = 'fall'\n",
        "\n",
        "month_to_seasons = {\n",
        "    1: WINTER,\n",
        "    2: WINTER,\n",
        "    3: SPRING,\n",
        "    4: SPRING,\n",
        "    5: SPRING,\n",
        "    6: SUMMER,\n",
        "    7: SUMMER,\n",
        "    8: SUMMER,\n",
        "    9: FALL,\n",
        "    10: FALL,\n",
        "    11: FALL,\n",
        "    12: WINTER\n",
        "}\n",
        "disasters['declaration_date'] = pd.to_datetime(disasters.declaration_date, format='%Y-%m-%d %H:%M:%S')\n",
        "disasters['month'] = disasters['declaration_date'].dt.month\n",
        "disasters['season'] = disasters.month.apply(lambda month: month_to_seasons.get(month))"
      ],
      "metadata": {
        "id": "M241ii5Gtnxn"
      },
      "execution_count": 151,
      "outputs": []
    },
    {
      "cell_type": "code",
      "source": [
        "# Drop unrelated columns\n",
        "\n",
        "disasters = disasters.drop(\n",
        "    columns=['designated_area', 'declaration_date', 'fema_declaration_string', 'ih_program_declared','ia_program_declared',\n",
        "             'pa_program_declared','hm_program_declared', \n",
        "             'last_ia_filing_date', 'hash', 'id', 'last_refresh',\n",
        "             'declaration_title', 'incident_begin_date', 'incident_end_date', 'disaster_closeout_date']\n",
        ")"
      ],
      "metadata": {
        "id": "WJn3k2HjvbeO"
      },
      "execution_count": 152,
      "outputs": []
    },
    {
      "cell_type": "code",
      "source": [
        "# Drop Regions with low incident count\n",
        "\n",
        "regions_to_grou = ['MP', 'FM', 'GU', 'AS', 'MH', 'PW']\n",
        "disasters['state'] = disasters.state.apply(lambda state: 'Other' if state in regions_to_drop else state)\n"
      ],
      "metadata": {
        "id": "zdC23Wf9crLK"
      },
      "execution_count": 153,
      "outputs": []
    },
    {
      "cell_type": "code",
      "source": [
        "# Group incident types with few examples (<10)\n",
        "it_to_group = ['Mud/Landslide', 'Toxic Substances', 'Fishing Losses', 'Dam/Levee Break', 'Volcano', 'Tsunami']\n",
        "\n",
        "disasters['incident_type'] = disasters.incident_type.apply(lambda incident_type: 'Other' if incident_type in it_to_group else incident_type)\n"
      ],
      "metadata": {
        "id": "9Z1HgaAHfK6Q"
      },
      "execution_count": 154,
      "outputs": []
    },
    {
      "cell_type": "markdown",
      "source": [
        "## Train test split\n",
        "\n",
        "based on the metadata (such as size\n",
        "and target class distribution) of your dataset, briefly outline your train/test percent split. Include the percentage for your golden holdout set if you plan to leave one out"
      ],
      "metadata": {
        "id": "8KOi0HTvrf3O"
      }
    },
    {
      "cell_type": "code",
      "source": [
        "import datetime\n",
        "from sklearn.model_selection import train_test_split, GridSearchCV\n",
        "from sklearn.datasets import make_classification"
      ],
      "metadata": {
        "id": "qRnfZzaOwxl7"
      },
      "execution_count": 155,
      "outputs": []
    },
    {
      "cell_type": "code",
      "source": [
        "class_column = 'incident_type'\n",
        "\n",
        "X = disasters.drop(columns=class_column)\n",
        "Y = disasters[class_column]\n",
        "X_train, X_test, y_train, y_test = train_test_split(X, Y, random_state=5, stratify=Y)"
      ],
      "metadata": {
        "id": "es2Vli9qwypG"
      },
      "execution_count": 156,
      "outputs": []
    },
    {
      "cell_type": "markdown",
      "source": [
        "## Establish an initial pipeline\n",
        "\n",
        "briefly describe the\n",
        "pipes you may need"
      ],
      "metadata": {
        "id": "OZmEexzUroeJ"
      }
    },
    {
      "cell_type": "code",
      "source": [
        "from sklearn import config_context\n",
        "from sklearn.ensemble import RandomForestClassifier, GradientBoostingClassifier\n",
        "from sklearn.linear_model import LogisticRegression\n",
        "from sklearn.pipeline import Pipeline \n",
        "from sklearn.compose import ColumnTransformer, make_column_selector\n",
        "from sklearn.impute import SimpleImputer\n",
        "from sklearn.preprocessing import OneHotEncoder, LabelBinarizer, StandardScaler"
      ],
      "metadata": {
        "id": "5N5IXMV_3ngs"
      },
      "execution_count": 157,
      "outputs": []
    },
    {
      "cell_type": "code",
      "source": [
        "cat_pipeline = Pipeline(steps=[('cat_impute', SimpleImputer(strategy='most_frequent')),\n",
        "                               ('onehot_cat', OneHotEncoder())])\n",
        "\n",
        "num_pipeline = Pipeline(steps=[('impute_num', SimpleImputer(strategy='mean')),\n",
        "                               ('scale_num', StandardScaler())])"
      ],
      "metadata": {
        "id": "WX-wMJwF42ny"
      },
      "execution_count": 158,
      "outputs": []
    },
    {
      "cell_type": "code",
      "source": [
        "cat_cols = ['state', 'declaration_type', 'season', 'month']\n",
        "\n",
        "num_cols = ['fy_declared', 'disaster_number', 'fips', 'place_code', 'declaration_request_number']\n",
        "\n",
        "preproc = ColumnTransformer(\n",
        "    [\n",
        "        ('cat_pipe', cat_pipeline, cat_cols),\n",
        "        ('num_pipe', num_pipeline, num_cols)\n",
        "    ],\n",
        "                             remainder='passthrough')"
      ],
      "metadata": {
        "id": "VFRQ6ISS5LSv"
      },
      "execution_count": null,
      "outputs": []
    },
    {
      "cell_type": "code",
      "source": [
        "log_pipe = Pipeline(steps=[('preproc', preproc),\n",
        "                       ('mdl', LogisticRegression(penalty='elasticnet', solver='saga', tol=0.01, l1_ratio=1))])\n",
        "\n",
        "rf_pipe = Pipeline(steps=[('preproc', preproc),\n",
        "                       ('mdl', RandomForestClassifier())])\n",
        "\n",
        "gb_pipe = Pipeline(steps=[('preproc', preproc),\n",
        "                       ('mdl', GradientBoostingClassifier(n_estimators=100, learning_rate=1.0, max_depth=1, random_state=0))])\n",
        "\n",
        "with config_context(display='diagram'):\n",
        "    display(log_pipe)\n",
        "    display(rf_pipe)\n",
        "    display(gb_pipe)"
      ],
      "metadata": {
        "id": "7sNFQ9se6dPp",
        "outputId": "466609f7-c1c4-4cf5-d15a-81b6e199f815",
        "colab": {
          "base_uri": "https://localhost:8080/",
          "height": 647
        }
      },
      "execution_count": 159,
      "outputs": [
        {
          "output_type": "display_data",
          "data": {
            "text/plain": [
              "Pipeline(steps=[('preproc',\n",
              "                 ColumnTransformer(remainder='passthrough',\n",
              "                                   transformers=[('cat_pipe',\n",
              "                                                  Pipeline(steps=[('cat_impute',\n",
              "                                                                   SimpleImputer(strategy='most_frequent')),\n",
              "                                                                  ('onehot_cat',\n",
              "                                                                   OneHotEncoder())]),\n",
              "                                                  ['state', 'declaration_type',\n",
              "                                                   'season', 'month']),\n",
              "                                                 ('num_pipe',\n",
              "                                                  Pipeline(steps=[('impute_num',\n",
              "                                                                   SimpleImputer()),\n",
              "                                                                  ('scale_num',\n",
              "                                                                   StandardScaler())]),\n",
              "                                                  ['fy_declared',\n",
              "                                                   'disaster_number', 'fips',\n",
              "                                                   'place_code',\n",
              "                                                   'declaration_request_number'])])),\n",
              "                ('mdl',\n",
              "                 LogisticRegression(l1_ratio=1, penalty='elasticnet',\n",
              "                                    solver='saga', tol=0.01))])"
            ],
            "text/html": [
              "<style>#sk-6b64a74e-2841-4b94-833c-f0a0f36eccef {color: black;background-color: white;}#sk-6b64a74e-2841-4b94-833c-f0a0f36eccef pre{padding: 0;}#sk-6b64a74e-2841-4b94-833c-f0a0f36eccef div.sk-toggleable {background-color: white;}#sk-6b64a74e-2841-4b94-833c-f0a0f36eccef label.sk-toggleable__label {cursor: pointer;display: block;width: 100%;margin-bottom: 0;padding: 0.3em;box-sizing: border-box;text-align: center;}#sk-6b64a74e-2841-4b94-833c-f0a0f36eccef label.sk-toggleable__label-arrow:before {content: \"▸\";float: left;margin-right: 0.25em;color: #696969;}#sk-6b64a74e-2841-4b94-833c-f0a0f36eccef label.sk-toggleable__label-arrow:hover:before {color: black;}#sk-6b64a74e-2841-4b94-833c-f0a0f36eccef div.sk-estimator:hover label.sk-toggleable__label-arrow:before {color: black;}#sk-6b64a74e-2841-4b94-833c-f0a0f36eccef div.sk-toggleable__content {max-height: 0;max-width: 0;overflow: hidden;text-align: left;background-color: #f0f8ff;}#sk-6b64a74e-2841-4b94-833c-f0a0f36eccef div.sk-toggleable__content pre {margin: 0.2em;color: black;border-radius: 0.25em;background-color: #f0f8ff;}#sk-6b64a74e-2841-4b94-833c-f0a0f36eccef input.sk-toggleable__control:checked~div.sk-toggleable__content {max-height: 200px;max-width: 100%;overflow: auto;}#sk-6b64a74e-2841-4b94-833c-f0a0f36eccef input.sk-toggleable__control:checked~label.sk-toggleable__label-arrow:before {content: \"▾\";}#sk-6b64a74e-2841-4b94-833c-f0a0f36eccef div.sk-estimator input.sk-toggleable__control:checked~label.sk-toggleable__label {background-color: #d4ebff;}#sk-6b64a74e-2841-4b94-833c-f0a0f36eccef div.sk-label input.sk-toggleable__control:checked~label.sk-toggleable__label {background-color: #d4ebff;}#sk-6b64a74e-2841-4b94-833c-f0a0f36eccef input.sk-hidden--visually {border: 0;clip: rect(1px 1px 1px 1px);clip: rect(1px, 1px, 1px, 1px);height: 1px;margin: -1px;overflow: hidden;padding: 0;position: absolute;width: 1px;}#sk-6b64a74e-2841-4b94-833c-f0a0f36eccef div.sk-estimator {font-family: monospace;background-color: #f0f8ff;border: 1px dotted black;border-radius: 0.25em;box-sizing: border-box;margin-bottom: 0.5em;}#sk-6b64a74e-2841-4b94-833c-f0a0f36eccef div.sk-estimator:hover {background-color: #d4ebff;}#sk-6b64a74e-2841-4b94-833c-f0a0f36eccef div.sk-parallel-item::after {content: \"\";width: 100%;border-bottom: 1px solid gray;flex-grow: 1;}#sk-6b64a74e-2841-4b94-833c-f0a0f36eccef div.sk-label:hover label.sk-toggleable__label {background-color: #d4ebff;}#sk-6b64a74e-2841-4b94-833c-f0a0f36eccef div.sk-serial::before {content: \"\";position: absolute;border-left: 1px solid gray;box-sizing: border-box;top: 2em;bottom: 0;left: 50%;}#sk-6b64a74e-2841-4b94-833c-f0a0f36eccef div.sk-serial {display: flex;flex-direction: column;align-items: center;background-color: white;padding-right: 0.2em;padding-left: 0.2em;}#sk-6b64a74e-2841-4b94-833c-f0a0f36eccef div.sk-item {z-index: 1;}#sk-6b64a74e-2841-4b94-833c-f0a0f36eccef div.sk-parallel {display: flex;align-items: stretch;justify-content: center;background-color: white;}#sk-6b64a74e-2841-4b94-833c-f0a0f36eccef div.sk-parallel::before {content: \"\";position: absolute;border-left: 1px solid gray;box-sizing: border-box;top: 2em;bottom: 0;left: 50%;}#sk-6b64a74e-2841-4b94-833c-f0a0f36eccef div.sk-parallel-item {display: flex;flex-direction: column;position: relative;background-color: white;}#sk-6b64a74e-2841-4b94-833c-f0a0f36eccef div.sk-parallel-item:first-child::after {align-self: flex-end;width: 50%;}#sk-6b64a74e-2841-4b94-833c-f0a0f36eccef div.sk-parallel-item:last-child::after {align-self: flex-start;width: 50%;}#sk-6b64a74e-2841-4b94-833c-f0a0f36eccef div.sk-parallel-item:only-child::after {width: 0;}#sk-6b64a74e-2841-4b94-833c-f0a0f36eccef div.sk-dashed-wrapped {border: 1px dashed gray;margin: 0 0.4em 0.5em 0.4em;box-sizing: border-box;padding-bottom: 0.4em;background-color: white;position: relative;}#sk-6b64a74e-2841-4b94-833c-f0a0f36eccef div.sk-label label {font-family: monospace;font-weight: bold;background-color: white;display: inline-block;line-height: 1.2em;}#sk-6b64a74e-2841-4b94-833c-f0a0f36eccef div.sk-label-container {position: relative;z-index: 2;text-align: center;}#sk-6b64a74e-2841-4b94-833c-f0a0f36eccef div.sk-container {/* jupyter's `normalize.less` sets `[hidden] { display: none; }` but bootstrap.min.css set `[hidden] { display: none !important; }` so we also need the `!important` here to be able to override the default hidden behavior on the sphinx rendered scikit-learn.org. See: https://github.com/scikit-learn/scikit-learn/issues/21755 */display: inline-block !important;position: relative;}#sk-6b64a74e-2841-4b94-833c-f0a0f36eccef div.sk-text-repr-fallback {display: none;}</style><div id=\"sk-6b64a74e-2841-4b94-833c-f0a0f36eccef\" class=\"sk-top-container\"><div class=\"sk-text-repr-fallback\"><pre>Pipeline(steps=[(&#x27;preproc&#x27;,\n",
              "                 ColumnTransformer(remainder=&#x27;passthrough&#x27;,\n",
              "                                   transformers=[(&#x27;cat_pipe&#x27;,\n",
              "                                                  Pipeline(steps=[(&#x27;cat_impute&#x27;,\n",
              "                                                                   SimpleImputer(strategy=&#x27;most_frequent&#x27;)),\n",
              "                                                                  (&#x27;onehot_cat&#x27;,\n",
              "                                                                   OneHotEncoder())]),\n",
              "                                                  [&#x27;state&#x27;, &#x27;declaration_type&#x27;,\n",
              "                                                   &#x27;season&#x27;, &#x27;month&#x27;]),\n",
              "                                                 (&#x27;num_pipe&#x27;,\n",
              "                                                  Pipeline(steps=[(&#x27;impute_num&#x27;,\n",
              "                                                                   SimpleImputer()),\n",
              "                                                                  (&#x27;scale_num&#x27;,\n",
              "                                                                   StandardScaler())]),\n",
              "                                                  [&#x27;fy_declared&#x27;,\n",
              "                                                   &#x27;disaster_number&#x27;, &#x27;fips&#x27;,\n",
              "                                                   &#x27;place_code&#x27;,\n",
              "                                                   &#x27;declaration_request_number&#x27;])])),\n",
              "                (&#x27;mdl&#x27;,\n",
              "                 LogisticRegression(l1_ratio=1, penalty=&#x27;elasticnet&#x27;,\n",
              "                                    solver=&#x27;saga&#x27;, tol=0.01))])</pre><b>Please rerun this cell to show the HTML repr or trust the notebook.</b></div><div class=\"sk-container\" hidden><div class=\"sk-item sk-dashed-wrapped\"><div class=\"sk-label-container\"><div class=\"sk-label sk-toggleable\"><input class=\"sk-toggleable__control sk-hidden--visually\" id=\"0299e677-bb02-4ae3-bef1-13abec99d499\" type=\"checkbox\" ><label for=\"0299e677-bb02-4ae3-bef1-13abec99d499\" class=\"sk-toggleable__label sk-toggleable__label-arrow\">Pipeline</label><div class=\"sk-toggleable__content\"><pre>Pipeline(steps=[(&#x27;preproc&#x27;,\n",
              "                 ColumnTransformer(remainder=&#x27;passthrough&#x27;,\n",
              "                                   transformers=[(&#x27;cat_pipe&#x27;,\n",
              "                                                  Pipeline(steps=[(&#x27;cat_impute&#x27;,\n",
              "                                                                   SimpleImputer(strategy=&#x27;most_frequent&#x27;)),\n",
              "                                                                  (&#x27;onehot_cat&#x27;,\n",
              "                                                                   OneHotEncoder())]),\n",
              "                                                  [&#x27;state&#x27;, &#x27;declaration_type&#x27;,\n",
              "                                                   &#x27;season&#x27;, &#x27;month&#x27;]),\n",
              "                                                 (&#x27;num_pipe&#x27;,\n",
              "                                                  Pipeline(steps=[(&#x27;impute_num&#x27;,\n",
              "                                                                   SimpleImputer()),\n",
              "                                                                  (&#x27;scale_num&#x27;,\n",
              "                                                                   StandardScaler())]),\n",
              "                                                  [&#x27;fy_declared&#x27;,\n",
              "                                                   &#x27;disaster_number&#x27;, &#x27;fips&#x27;,\n",
              "                                                   &#x27;place_code&#x27;,\n",
              "                                                   &#x27;declaration_request_number&#x27;])])),\n",
              "                (&#x27;mdl&#x27;,\n",
              "                 LogisticRegression(l1_ratio=1, penalty=&#x27;elasticnet&#x27;,\n",
              "                                    solver=&#x27;saga&#x27;, tol=0.01))])</pre></div></div></div><div class=\"sk-serial\"><div class=\"sk-item sk-dashed-wrapped\"><div class=\"sk-label-container\"><div class=\"sk-label sk-toggleable\"><input class=\"sk-toggleable__control sk-hidden--visually\" id=\"32ff24af-42bd-4883-a989-f3b8f0d0078e\" type=\"checkbox\" ><label for=\"32ff24af-42bd-4883-a989-f3b8f0d0078e\" class=\"sk-toggleable__label sk-toggleable__label-arrow\">preproc: ColumnTransformer</label><div class=\"sk-toggleable__content\"><pre>ColumnTransformer(remainder=&#x27;passthrough&#x27;,\n",
              "                  transformers=[(&#x27;cat_pipe&#x27;,\n",
              "                                 Pipeline(steps=[(&#x27;cat_impute&#x27;,\n",
              "                                                  SimpleImputer(strategy=&#x27;most_frequent&#x27;)),\n",
              "                                                 (&#x27;onehot_cat&#x27;,\n",
              "                                                  OneHotEncoder())]),\n",
              "                                 [&#x27;state&#x27;, &#x27;declaration_type&#x27;, &#x27;season&#x27;,\n",
              "                                  &#x27;month&#x27;]),\n",
              "                                (&#x27;num_pipe&#x27;,\n",
              "                                 Pipeline(steps=[(&#x27;impute_num&#x27;,\n",
              "                                                  SimpleImputer()),\n",
              "                                                 (&#x27;scale_num&#x27;,\n",
              "                                                  StandardScaler())]),\n",
              "                                 [&#x27;fy_declared&#x27;, &#x27;disaster_number&#x27;, &#x27;fips&#x27;,\n",
              "                                  &#x27;place_code&#x27;,\n",
              "                                  &#x27;declaration_request_number&#x27;])])</pre></div></div></div><div class=\"sk-parallel\"><div class=\"sk-parallel-item\"><div class=\"sk-item\"><div class=\"sk-label-container\"><div class=\"sk-label sk-toggleable\"><input class=\"sk-toggleable__control sk-hidden--visually\" id=\"857bf973-e79b-4d23-a89c-16f38f28ba00\" type=\"checkbox\" ><label for=\"857bf973-e79b-4d23-a89c-16f38f28ba00\" class=\"sk-toggleable__label sk-toggleable__label-arrow\">cat_pipe</label><div class=\"sk-toggleable__content\"><pre>[&#x27;state&#x27;, &#x27;declaration_type&#x27;, &#x27;season&#x27;, &#x27;month&#x27;]</pre></div></div></div><div class=\"sk-serial\"><div class=\"sk-item\"><div class=\"sk-serial\"><div class=\"sk-item\"><div class=\"sk-estimator sk-toggleable\"><input class=\"sk-toggleable__control sk-hidden--visually\" id=\"b1901eeb-cd2d-49f5-ad9b-1f2a709cbbc3\" type=\"checkbox\" ><label for=\"b1901eeb-cd2d-49f5-ad9b-1f2a709cbbc3\" class=\"sk-toggleable__label sk-toggleable__label-arrow\">SimpleImputer</label><div class=\"sk-toggleable__content\"><pre>SimpleImputer(strategy=&#x27;most_frequent&#x27;)</pre></div></div></div><div class=\"sk-item\"><div class=\"sk-estimator sk-toggleable\"><input class=\"sk-toggleable__control sk-hidden--visually\" id=\"ace45e3e-f6a2-44df-8dfd-ab2135e12813\" type=\"checkbox\" ><label for=\"ace45e3e-f6a2-44df-8dfd-ab2135e12813\" class=\"sk-toggleable__label sk-toggleable__label-arrow\">OneHotEncoder</label><div class=\"sk-toggleable__content\"><pre>OneHotEncoder()</pre></div></div></div></div></div></div></div></div><div class=\"sk-parallel-item\"><div class=\"sk-item\"><div class=\"sk-label-container\"><div class=\"sk-label sk-toggleable\"><input class=\"sk-toggleable__control sk-hidden--visually\" id=\"60da9bb1-5dbe-40ed-8b15-df1fc8ecd3ab\" type=\"checkbox\" ><label for=\"60da9bb1-5dbe-40ed-8b15-df1fc8ecd3ab\" class=\"sk-toggleable__label sk-toggleable__label-arrow\">num_pipe</label><div class=\"sk-toggleable__content\"><pre>[&#x27;fy_declared&#x27;, &#x27;disaster_number&#x27;, &#x27;fips&#x27;, &#x27;place_code&#x27;, &#x27;declaration_request_number&#x27;]</pre></div></div></div><div class=\"sk-serial\"><div class=\"sk-item\"><div class=\"sk-serial\"><div class=\"sk-item\"><div class=\"sk-estimator sk-toggleable\"><input class=\"sk-toggleable__control sk-hidden--visually\" id=\"d6a7316b-7be1-47c6-b0c1-f06af51639d7\" type=\"checkbox\" ><label for=\"d6a7316b-7be1-47c6-b0c1-f06af51639d7\" class=\"sk-toggleable__label sk-toggleable__label-arrow\">SimpleImputer</label><div class=\"sk-toggleable__content\"><pre>SimpleImputer()</pre></div></div></div><div class=\"sk-item\"><div class=\"sk-estimator sk-toggleable\"><input class=\"sk-toggleable__control sk-hidden--visually\" id=\"7b855a09-18a8-4f6f-9489-809ef1c05553\" type=\"checkbox\" ><label for=\"7b855a09-18a8-4f6f-9489-809ef1c05553\" class=\"sk-toggleable__label sk-toggleable__label-arrow\">StandardScaler</label><div class=\"sk-toggleable__content\"><pre>StandardScaler()</pre></div></div></div></div></div></div></div></div><div class=\"sk-parallel-item\"><div class=\"sk-item\"><div class=\"sk-label-container\"><div class=\"sk-label sk-toggleable\"><input class=\"sk-toggleable__control sk-hidden--visually\" id=\"d506daeb-a810-41e7-9c56-9bad82a8ca8f\" type=\"checkbox\" ><label for=\"d506daeb-a810-41e7-9c56-9bad82a8ca8f\" class=\"sk-toggleable__label sk-toggleable__label-arrow\">remainder</label><div class=\"sk-toggleable__content\"><pre></pre></div></div></div><div class=\"sk-serial\"><div class=\"sk-item\"><div class=\"sk-estimator sk-toggleable\"><input class=\"sk-toggleable__control sk-hidden--visually\" id=\"5d95c64c-e67a-47ff-a7b8-c969d26ff287\" type=\"checkbox\" ><label for=\"5d95c64c-e67a-47ff-a7b8-c969d26ff287\" class=\"sk-toggleable__label sk-toggleable__label-arrow\">passthrough</label><div class=\"sk-toggleable__content\"><pre>passthrough</pre></div></div></div></div></div></div></div></div><div class=\"sk-item\"><div class=\"sk-estimator sk-toggleable\"><input class=\"sk-toggleable__control sk-hidden--visually\" id=\"f9bfc3cf-b141-4a80-84a1-bdde55f929f3\" type=\"checkbox\" ><label for=\"f9bfc3cf-b141-4a80-84a1-bdde55f929f3\" class=\"sk-toggleable__label sk-toggleable__label-arrow\">LogisticRegression</label><div class=\"sk-toggleable__content\"><pre>LogisticRegression(l1_ratio=1, penalty=&#x27;elasticnet&#x27;, solver=&#x27;saga&#x27;, tol=0.01)</pre></div></div></div></div></div></div></div>"
            ]
          },
          "metadata": {}
        },
        {
          "output_type": "display_data",
          "data": {
            "text/plain": [
              "Pipeline(steps=[('preproc',\n",
              "                 ColumnTransformer(remainder='passthrough',\n",
              "                                   transformers=[('cat_pipe',\n",
              "                                                  Pipeline(steps=[('cat_impute',\n",
              "                                                                   SimpleImputer(strategy='most_frequent')),\n",
              "                                                                  ('onehot_cat',\n",
              "                                                                   OneHotEncoder())]),\n",
              "                                                  ['state', 'declaration_type',\n",
              "                                                   'season', 'month']),\n",
              "                                                 ('num_pipe',\n",
              "                                                  Pipeline(steps=[('impute_num',\n",
              "                                                                   SimpleImputer()),\n",
              "                                                                  ('scale_num',\n",
              "                                                                   StandardScaler())]),\n",
              "                                                  ['fy_declared',\n",
              "                                                   'disaster_number', 'fips',\n",
              "                                                   'place_code',\n",
              "                                                   'declaration_request_number'])])),\n",
              "                ('mdl', RandomForestClassifier())])"
            ],
            "text/html": [
              "<style>#sk-7a1abb2d-e24a-4854-8720-451fdabcd519 {color: black;background-color: white;}#sk-7a1abb2d-e24a-4854-8720-451fdabcd519 pre{padding: 0;}#sk-7a1abb2d-e24a-4854-8720-451fdabcd519 div.sk-toggleable {background-color: white;}#sk-7a1abb2d-e24a-4854-8720-451fdabcd519 label.sk-toggleable__label {cursor: pointer;display: block;width: 100%;margin-bottom: 0;padding: 0.3em;box-sizing: border-box;text-align: center;}#sk-7a1abb2d-e24a-4854-8720-451fdabcd519 label.sk-toggleable__label-arrow:before {content: \"▸\";float: left;margin-right: 0.25em;color: #696969;}#sk-7a1abb2d-e24a-4854-8720-451fdabcd519 label.sk-toggleable__label-arrow:hover:before {color: black;}#sk-7a1abb2d-e24a-4854-8720-451fdabcd519 div.sk-estimator:hover label.sk-toggleable__label-arrow:before {color: black;}#sk-7a1abb2d-e24a-4854-8720-451fdabcd519 div.sk-toggleable__content {max-height: 0;max-width: 0;overflow: hidden;text-align: left;background-color: #f0f8ff;}#sk-7a1abb2d-e24a-4854-8720-451fdabcd519 div.sk-toggleable__content pre {margin: 0.2em;color: black;border-radius: 0.25em;background-color: #f0f8ff;}#sk-7a1abb2d-e24a-4854-8720-451fdabcd519 input.sk-toggleable__control:checked~div.sk-toggleable__content {max-height: 200px;max-width: 100%;overflow: auto;}#sk-7a1abb2d-e24a-4854-8720-451fdabcd519 input.sk-toggleable__control:checked~label.sk-toggleable__label-arrow:before {content: \"▾\";}#sk-7a1abb2d-e24a-4854-8720-451fdabcd519 div.sk-estimator input.sk-toggleable__control:checked~label.sk-toggleable__label {background-color: #d4ebff;}#sk-7a1abb2d-e24a-4854-8720-451fdabcd519 div.sk-label input.sk-toggleable__control:checked~label.sk-toggleable__label {background-color: #d4ebff;}#sk-7a1abb2d-e24a-4854-8720-451fdabcd519 input.sk-hidden--visually {border: 0;clip: rect(1px 1px 1px 1px);clip: rect(1px, 1px, 1px, 1px);height: 1px;margin: -1px;overflow: hidden;padding: 0;position: absolute;width: 1px;}#sk-7a1abb2d-e24a-4854-8720-451fdabcd519 div.sk-estimator {font-family: monospace;background-color: #f0f8ff;border: 1px dotted black;border-radius: 0.25em;box-sizing: border-box;margin-bottom: 0.5em;}#sk-7a1abb2d-e24a-4854-8720-451fdabcd519 div.sk-estimator:hover {background-color: #d4ebff;}#sk-7a1abb2d-e24a-4854-8720-451fdabcd519 div.sk-parallel-item::after {content: \"\";width: 100%;border-bottom: 1px solid gray;flex-grow: 1;}#sk-7a1abb2d-e24a-4854-8720-451fdabcd519 div.sk-label:hover label.sk-toggleable__label {background-color: #d4ebff;}#sk-7a1abb2d-e24a-4854-8720-451fdabcd519 div.sk-serial::before {content: \"\";position: absolute;border-left: 1px solid gray;box-sizing: border-box;top: 2em;bottom: 0;left: 50%;}#sk-7a1abb2d-e24a-4854-8720-451fdabcd519 div.sk-serial {display: flex;flex-direction: column;align-items: center;background-color: white;padding-right: 0.2em;padding-left: 0.2em;}#sk-7a1abb2d-e24a-4854-8720-451fdabcd519 div.sk-item {z-index: 1;}#sk-7a1abb2d-e24a-4854-8720-451fdabcd519 div.sk-parallel {display: flex;align-items: stretch;justify-content: center;background-color: white;}#sk-7a1abb2d-e24a-4854-8720-451fdabcd519 div.sk-parallel::before {content: \"\";position: absolute;border-left: 1px solid gray;box-sizing: border-box;top: 2em;bottom: 0;left: 50%;}#sk-7a1abb2d-e24a-4854-8720-451fdabcd519 div.sk-parallel-item {display: flex;flex-direction: column;position: relative;background-color: white;}#sk-7a1abb2d-e24a-4854-8720-451fdabcd519 div.sk-parallel-item:first-child::after {align-self: flex-end;width: 50%;}#sk-7a1abb2d-e24a-4854-8720-451fdabcd519 div.sk-parallel-item:last-child::after {align-self: flex-start;width: 50%;}#sk-7a1abb2d-e24a-4854-8720-451fdabcd519 div.sk-parallel-item:only-child::after {width: 0;}#sk-7a1abb2d-e24a-4854-8720-451fdabcd519 div.sk-dashed-wrapped {border: 1px dashed gray;margin: 0 0.4em 0.5em 0.4em;box-sizing: border-box;padding-bottom: 0.4em;background-color: white;position: relative;}#sk-7a1abb2d-e24a-4854-8720-451fdabcd519 div.sk-label label {font-family: monospace;font-weight: bold;background-color: white;display: inline-block;line-height: 1.2em;}#sk-7a1abb2d-e24a-4854-8720-451fdabcd519 div.sk-label-container {position: relative;z-index: 2;text-align: center;}#sk-7a1abb2d-e24a-4854-8720-451fdabcd519 div.sk-container {/* jupyter's `normalize.less` sets `[hidden] { display: none; }` but bootstrap.min.css set `[hidden] { display: none !important; }` so we also need the `!important` here to be able to override the default hidden behavior on the sphinx rendered scikit-learn.org. See: https://github.com/scikit-learn/scikit-learn/issues/21755 */display: inline-block !important;position: relative;}#sk-7a1abb2d-e24a-4854-8720-451fdabcd519 div.sk-text-repr-fallback {display: none;}</style><div id=\"sk-7a1abb2d-e24a-4854-8720-451fdabcd519\" class=\"sk-top-container\"><div class=\"sk-text-repr-fallback\"><pre>Pipeline(steps=[(&#x27;preproc&#x27;,\n",
              "                 ColumnTransformer(remainder=&#x27;passthrough&#x27;,\n",
              "                                   transformers=[(&#x27;cat_pipe&#x27;,\n",
              "                                                  Pipeline(steps=[(&#x27;cat_impute&#x27;,\n",
              "                                                                   SimpleImputer(strategy=&#x27;most_frequent&#x27;)),\n",
              "                                                                  (&#x27;onehot_cat&#x27;,\n",
              "                                                                   OneHotEncoder())]),\n",
              "                                                  [&#x27;state&#x27;, &#x27;declaration_type&#x27;,\n",
              "                                                   &#x27;season&#x27;, &#x27;month&#x27;]),\n",
              "                                                 (&#x27;num_pipe&#x27;,\n",
              "                                                  Pipeline(steps=[(&#x27;impute_num&#x27;,\n",
              "                                                                   SimpleImputer()),\n",
              "                                                                  (&#x27;scale_num&#x27;,\n",
              "                                                                   StandardScaler())]),\n",
              "                                                  [&#x27;fy_declared&#x27;,\n",
              "                                                   &#x27;disaster_number&#x27;, &#x27;fips&#x27;,\n",
              "                                                   &#x27;place_code&#x27;,\n",
              "                                                   &#x27;declaration_request_number&#x27;])])),\n",
              "                (&#x27;mdl&#x27;, RandomForestClassifier())])</pre><b>Please rerun this cell to show the HTML repr or trust the notebook.</b></div><div class=\"sk-container\" hidden><div class=\"sk-item sk-dashed-wrapped\"><div class=\"sk-label-container\"><div class=\"sk-label sk-toggleable\"><input class=\"sk-toggleable__control sk-hidden--visually\" id=\"3db77c00-747c-482d-99eb-f62f0002c76c\" type=\"checkbox\" ><label for=\"3db77c00-747c-482d-99eb-f62f0002c76c\" class=\"sk-toggleable__label sk-toggleable__label-arrow\">Pipeline</label><div class=\"sk-toggleable__content\"><pre>Pipeline(steps=[(&#x27;preproc&#x27;,\n",
              "                 ColumnTransformer(remainder=&#x27;passthrough&#x27;,\n",
              "                                   transformers=[(&#x27;cat_pipe&#x27;,\n",
              "                                                  Pipeline(steps=[(&#x27;cat_impute&#x27;,\n",
              "                                                                   SimpleImputer(strategy=&#x27;most_frequent&#x27;)),\n",
              "                                                                  (&#x27;onehot_cat&#x27;,\n",
              "                                                                   OneHotEncoder())]),\n",
              "                                                  [&#x27;state&#x27;, &#x27;declaration_type&#x27;,\n",
              "                                                   &#x27;season&#x27;, &#x27;month&#x27;]),\n",
              "                                                 (&#x27;num_pipe&#x27;,\n",
              "                                                  Pipeline(steps=[(&#x27;impute_num&#x27;,\n",
              "                                                                   SimpleImputer()),\n",
              "                                                                  (&#x27;scale_num&#x27;,\n",
              "                                                                   StandardScaler())]),\n",
              "                                                  [&#x27;fy_declared&#x27;,\n",
              "                                                   &#x27;disaster_number&#x27;, &#x27;fips&#x27;,\n",
              "                                                   &#x27;place_code&#x27;,\n",
              "                                                   &#x27;declaration_request_number&#x27;])])),\n",
              "                (&#x27;mdl&#x27;, RandomForestClassifier())])</pre></div></div></div><div class=\"sk-serial\"><div class=\"sk-item sk-dashed-wrapped\"><div class=\"sk-label-container\"><div class=\"sk-label sk-toggleable\"><input class=\"sk-toggleable__control sk-hidden--visually\" id=\"972d1c9b-da82-4aac-b35e-6a27313bce27\" type=\"checkbox\" ><label for=\"972d1c9b-da82-4aac-b35e-6a27313bce27\" class=\"sk-toggleable__label sk-toggleable__label-arrow\">preproc: ColumnTransformer</label><div class=\"sk-toggleable__content\"><pre>ColumnTransformer(remainder=&#x27;passthrough&#x27;,\n",
              "                  transformers=[(&#x27;cat_pipe&#x27;,\n",
              "                                 Pipeline(steps=[(&#x27;cat_impute&#x27;,\n",
              "                                                  SimpleImputer(strategy=&#x27;most_frequent&#x27;)),\n",
              "                                                 (&#x27;onehot_cat&#x27;,\n",
              "                                                  OneHotEncoder())]),\n",
              "                                 [&#x27;state&#x27;, &#x27;declaration_type&#x27;, &#x27;season&#x27;,\n",
              "                                  &#x27;month&#x27;]),\n",
              "                                (&#x27;num_pipe&#x27;,\n",
              "                                 Pipeline(steps=[(&#x27;impute_num&#x27;,\n",
              "                                                  SimpleImputer()),\n",
              "                                                 (&#x27;scale_num&#x27;,\n",
              "                                                  StandardScaler())]),\n",
              "                                 [&#x27;fy_declared&#x27;, &#x27;disaster_number&#x27;, &#x27;fips&#x27;,\n",
              "                                  &#x27;place_code&#x27;,\n",
              "                                  &#x27;declaration_request_number&#x27;])])</pre></div></div></div><div class=\"sk-parallel\"><div class=\"sk-parallel-item\"><div class=\"sk-item\"><div class=\"sk-label-container\"><div class=\"sk-label sk-toggleable\"><input class=\"sk-toggleable__control sk-hidden--visually\" id=\"8ffe9dca-50f7-42e9-9512-493d13356161\" type=\"checkbox\" ><label for=\"8ffe9dca-50f7-42e9-9512-493d13356161\" class=\"sk-toggleable__label sk-toggleable__label-arrow\">cat_pipe</label><div class=\"sk-toggleable__content\"><pre>[&#x27;state&#x27;, &#x27;declaration_type&#x27;, &#x27;season&#x27;, &#x27;month&#x27;]</pre></div></div></div><div class=\"sk-serial\"><div class=\"sk-item\"><div class=\"sk-serial\"><div class=\"sk-item\"><div class=\"sk-estimator sk-toggleable\"><input class=\"sk-toggleable__control sk-hidden--visually\" id=\"6962d0dd-da20-4f33-94a5-8ad05e386371\" type=\"checkbox\" ><label for=\"6962d0dd-da20-4f33-94a5-8ad05e386371\" class=\"sk-toggleable__label sk-toggleable__label-arrow\">SimpleImputer</label><div class=\"sk-toggleable__content\"><pre>SimpleImputer(strategy=&#x27;most_frequent&#x27;)</pre></div></div></div><div class=\"sk-item\"><div class=\"sk-estimator sk-toggleable\"><input class=\"sk-toggleable__control sk-hidden--visually\" id=\"7098f46a-7fa8-4bd3-91f2-d6659760166a\" type=\"checkbox\" ><label for=\"7098f46a-7fa8-4bd3-91f2-d6659760166a\" class=\"sk-toggleable__label sk-toggleable__label-arrow\">OneHotEncoder</label><div class=\"sk-toggleable__content\"><pre>OneHotEncoder()</pre></div></div></div></div></div></div></div></div><div class=\"sk-parallel-item\"><div class=\"sk-item\"><div class=\"sk-label-container\"><div class=\"sk-label sk-toggleable\"><input class=\"sk-toggleable__control sk-hidden--visually\" id=\"dd23a82a-a42e-45fc-a484-7088bd8e46f7\" type=\"checkbox\" ><label for=\"dd23a82a-a42e-45fc-a484-7088bd8e46f7\" class=\"sk-toggleable__label sk-toggleable__label-arrow\">num_pipe</label><div class=\"sk-toggleable__content\"><pre>[&#x27;fy_declared&#x27;, &#x27;disaster_number&#x27;, &#x27;fips&#x27;, &#x27;place_code&#x27;, &#x27;declaration_request_number&#x27;]</pre></div></div></div><div class=\"sk-serial\"><div class=\"sk-item\"><div class=\"sk-serial\"><div class=\"sk-item\"><div class=\"sk-estimator sk-toggleable\"><input class=\"sk-toggleable__control sk-hidden--visually\" id=\"1635e41b-daf5-4d4a-b6e0-289962060b40\" type=\"checkbox\" ><label for=\"1635e41b-daf5-4d4a-b6e0-289962060b40\" class=\"sk-toggleable__label sk-toggleable__label-arrow\">SimpleImputer</label><div class=\"sk-toggleable__content\"><pre>SimpleImputer()</pre></div></div></div><div class=\"sk-item\"><div class=\"sk-estimator sk-toggleable\"><input class=\"sk-toggleable__control sk-hidden--visually\" id=\"9ca174e6-6b52-49c4-a20d-a0a18a1b8658\" type=\"checkbox\" ><label for=\"9ca174e6-6b52-49c4-a20d-a0a18a1b8658\" class=\"sk-toggleable__label sk-toggleable__label-arrow\">StandardScaler</label><div class=\"sk-toggleable__content\"><pre>StandardScaler()</pre></div></div></div></div></div></div></div></div><div class=\"sk-parallel-item\"><div class=\"sk-item\"><div class=\"sk-label-container\"><div class=\"sk-label sk-toggleable\"><input class=\"sk-toggleable__control sk-hidden--visually\" id=\"aa78bbd0-7b6e-426d-87e3-87c760f9050b\" type=\"checkbox\" ><label for=\"aa78bbd0-7b6e-426d-87e3-87c760f9050b\" class=\"sk-toggleable__label sk-toggleable__label-arrow\">remainder</label><div class=\"sk-toggleable__content\"><pre></pre></div></div></div><div class=\"sk-serial\"><div class=\"sk-item\"><div class=\"sk-estimator sk-toggleable\"><input class=\"sk-toggleable__control sk-hidden--visually\" id=\"b1d7d0aa-e048-46f5-8ee6-11e762996db0\" type=\"checkbox\" ><label for=\"b1d7d0aa-e048-46f5-8ee6-11e762996db0\" class=\"sk-toggleable__label sk-toggleable__label-arrow\">passthrough</label><div class=\"sk-toggleable__content\"><pre>passthrough</pre></div></div></div></div></div></div></div></div><div class=\"sk-item\"><div class=\"sk-estimator sk-toggleable\"><input class=\"sk-toggleable__control sk-hidden--visually\" id=\"09c56b32-411d-4aa5-be48-b3be4f004141\" type=\"checkbox\" ><label for=\"09c56b32-411d-4aa5-be48-b3be4f004141\" class=\"sk-toggleable__label sk-toggleable__label-arrow\">RandomForestClassifier</label><div class=\"sk-toggleable__content\"><pre>RandomForestClassifier()</pre></div></div></div></div></div></div></div>"
            ]
          },
          "metadata": {}
        },
        {
          "output_type": "display_data",
          "data": {
            "text/plain": [
              "Pipeline(steps=[('preproc',\n",
              "                 ColumnTransformer(remainder='passthrough',\n",
              "                                   transformers=[('cat_pipe',\n",
              "                                                  Pipeline(steps=[('cat_impute',\n",
              "                                                                   SimpleImputer(strategy='most_frequent')),\n",
              "                                                                  ('onehot_cat',\n",
              "                                                                   OneHotEncoder())]),\n",
              "                                                  ['state', 'declaration_type',\n",
              "                                                   'season', 'month']),\n",
              "                                                 ('num_pipe',\n",
              "                                                  Pipeline(steps=[('impute_num',\n",
              "                                                                   SimpleImputer()),\n",
              "                                                                  ('scale_num',\n",
              "                                                                   StandardScaler())]),\n",
              "                                                  ['fy_declared',\n",
              "                                                   'disaster_number', 'fips',\n",
              "                                                   'place_code',\n",
              "                                                   'declaration_request_number'])])),\n",
              "                ('mdl',\n",
              "                 GradientBoostingClassifier(learning_rate=1.0, max_depth=1,\n",
              "                                            random_state=0))])"
            ],
            "text/html": [
              "<style>#sk-1890f0a4-653b-4a96-8bf5-63de506b34ea {color: black;background-color: white;}#sk-1890f0a4-653b-4a96-8bf5-63de506b34ea pre{padding: 0;}#sk-1890f0a4-653b-4a96-8bf5-63de506b34ea div.sk-toggleable {background-color: white;}#sk-1890f0a4-653b-4a96-8bf5-63de506b34ea label.sk-toggleable__label {cursor: pointer;display: block;width: 100%;margin-bottom: 0;padding: 0.3em;box-sizing: border-box;text-align: center;}#sk-1890f0a4-653b-4a96-8bf5-63de506b34ea label.sk-toggleable__label-arrow:before {content: \"▸\";float: left;margin-right: 0.25em;color: #696969;}#sk-1890f0a4-653b-4a96-8bf5-63de506b34ea label.sk-toggleable__label-arrow:hover:before {color: black;}#sk-1890f0a4-653b-4a96-8bf5-63de506b34ea div.sk-estimator:hover label.sk-toggleable__label-arrow:before {color: black;}#sk-1890f0a4-653b-4a96-8bf5-63de506b34ea div.sk-toggleable__content {max-height: 0;max-width: 0;overflow: hidden;text-align: left;background-color: #f0f8ff;}#sk-1890f0a4-653b-4a96-8bf5-63de506b34ea div.sk-toggleable__content pre {margin: 0.2em;color: black;border-radius: 0.25em;background-color: #f0f8ff;}#sk-1890f0a4-653b-4a96-8bf5-63de506b34ea input.sk-toggleable__control:checked~div.sk-toggleable__content {max-height: 200px;max-width: 100%;overflow: auto;}#sk-1890f0a4-653b-4a96-8bf5-63de506b34ea input.sk-toggleable__control:checked~label.sk-toggleable__label-arrow:before {content: \"▾\";}#sk-1890f0a4-653b-4a96-8bf5-63de506b34ea div.sk-estimator input.sk-toggleable__control:checked~label.sk-toggleable__label {background-color: #d4ebff;}#sk-1890f0a4-653b-4a96-8bf5-63de506b34ea div.sk-label input.sk-toggleable__control:checked~label.sk-toggleable__label {background-color: #d4ebff;}#sk-1890f0a4-653b-4a96-8bf5-63de506b34ea input.sk-hidden--visually {border: 0;clip: rect(1px 1px 1px 1px);clip: rect(1px, 1px, 1px, 1px);height: 1px;margin: -1px;overflow: hidden;padding: 0;position: absolute;width: 1px;}#sk-1890f0a4-653b-4a96-8bf5-63de506b34ea div.sk-estimator {font-family: monospace;background-color: #f0f8ff;border: 1px dotted black;border-radius: 0.25em;box-sizing: border-box;margin-bottom: 0.5em;}#sk-1890f0a4-653b-4a96-8bf5-63de506b34ea div.sk-estimator:hover {background-color: #d4ebff;}#sk-1890f0a4-653b-4a96-8bf5-63de506b34ea div.sk-parallel-item::after {content: \"\";width: 100%;border-bottom: 1px solid gray;flex-grow: 1;}#sk-1890f0a4-653b-4a96-8bf5-63de506b34ea div.sk-label:hover label.sk-toggleable__label {background-color: #d4ebff;}#sk-1890f0a4-653b-4a96-8bf5-63de506b34ea div.sk-serial::before {content: \"\";position: absolute;border-left: 1px solid gray;box-sizing: border-box;top: 2em;bottom: 0;left: 50%;}#sk-1890f0a4-653b-4a96-8bf5-63de506b34ea div.sk-serial {display: flex;flex-direction: column;align-items: center;background-color: white;padding-right: 0.2em;padding-left: 0.2em;}#sk-1890f0a4-653b-4a96-8bf5-63de506b34ea div.sk-item {z-index: 1;}#sk-1890f0a4-653b-4a96-8bf5-63de506b34ea div.sk-parallel {display: flex;align-items: stretch;justify-content: center;background-color: white;}#sk-1890f0a4-653b-4a96-8bf5-63de506b34ea div.sk-parallel::before {content: \"\";position: absolute;border-left: 1px solid gray;box-sizing: border-box;top: 2em;bottom: 0;left: 50%;}#sk-1890f0a4-653b-4a96-8bf5-63de506b34ea div.sk-parallel-item {display: flex;flex-direction: column;position: relative;background-color: white;}#sk-1890f0a4-653b-4a96-8bf5-63de506b34ea div.sk-parallel-item:first-child::after {align-self: flex-end;width: 50%;}#sk-1890f0a4-653b-4a96-8bf5-63de506b34ea div.sk-parallel-item:last-child::after {align-self: flex-start;width: 50%;}#sk-1890f0a4-653b-4a96-8bf5-63de506b34ea div.sk-parallel-item:only-child::after {width: 0;}#sk-1890f0a4-653b-4a96-8bf5-63de506b34ea div.sk-dashed-wrapped {border: 1px dashed gray;margin: 0 0.4em 0.5em 0.4em;box-sizing: border-box;padding-bottom: 0.4em;background-color: white;position: relative;}#sk-1890f0a4-653b-4a96-8bf5-63de506b34ea div.sk-label label {font-family: monospace;font-weight: bold;background-color: white;display: inline-block;line-height: 1.2em;}#sk-1890f0a4-653b-4a96-8bf5-63de506b34ea div.sk-label-container {position: relative;z-index: 2;text-align: center;}#sk-1890f0a4-653b-4a96-8bf5-63de506b34ea div.sk-container {/* jupyter's `normalize.less` sets `[hidden] { display: none; }` but bootstrap.min.css set `[hidden] { display: none !important; }` so we also need the `!important` here to be able to override the default hidden behavior on the sphinx rendered scikit-learn.org. See: https://github.com/scikit-learn/scikit-learn/issues/21755 */display: inline-block !important;position: relative;}#sk-1890f0a4-653b-4a96-8bf5-63de506b34ea div.sk-text-repr-fallback {display: none;}</style><div id=\"sk-1890f0a4-653b-4a96-8bf5-63de506b34ea\" class=\"sk-top-container\"><div class=\"sk-text-repr-fallback\"><pre>Pipeline(steps=[(&#x27;preproc&#x27;,\n",
              "                 ColumnTransformer(remainder=&#x27;passthrough&#x27;,\n",
              "                                   transformers=[(&#x27;cat_pipe&#x27;,\n",
              "                                                  Pipeline(steps=[(&#x27;cat_impute&#x27;,\n",
              "                                                                   SimpleImputer(strategy=&#x27;most_frequent&#x27;)),\n",
              "                                                                  (&#x27;onehot_cat&#x27;,\n",
              "                                                                   OneHotEncoder())]),\n",
              "                                                  [&#x27;state&#x27;, &#x27;declaration_type&#x27;,\n",
              "                                                   &#x27;season&#x27;, &#x27;month&#x27;]),\n",
              "                                                 (&#x27;num_pipe&#x27;,\n",
              "                                                  Pipeline(steps=[(&#x27;impute_num&#x27;,\n",
              "                                                                   SimpleImputer()),\n",
              "                                                                  (&#x27;scale_num&#x27;,\n",
              "                                                                   StandardScaler())]),\n",
              "                                                  [&#x27;fy_declared&#x27;,\n",
              "                                                   &#x27;disaster_number&#x27;, &#x27;fips&#x27;,\n",
              "                                                   &#x27;place_code&#x27;,\n",
              "                                                   &#x27;declaration_request_number&#x27;])])),\n",
              "                (&#x27;mdl&#x27;,\n",
              "                 GradientBoostingClassifier(learning_rate=1.0, max_depth=1,\n",
              "                                            random_state=0))])</pre><b>Please rerun this cell to show the HTML repr or trust the notebook.</b></div><div class=\"sk-container\" hidden><div class=\"sk-item sk-dashed-wrapped\"><div class=\"sk-label-container\"><div class=\"sk-label sk-toggleable\"><input class=\"sk-toggleable__control sk-hidden--visually\" id=\"0cf9ec63-0cbe-439b-a7a3-97f825ca1406\" type=\"checkbox\" ><label for=\"0cf9ec63-0cbe-439b-a7a3-97f825ca1406\" class=\"sk-toggleable__label sk-toggleable__label-arrow\">Pipeline</label><div class=\"sk-toggleable__content\"><pre>Pipeline(steps=[(&#x27;preproc&#x27;,\n",
              "                 ColumnTransformer(remainder=&#x27;passthrough&#x27;,\n",
              "                                   transformers=[(&#x27;cat_pipe&#x27;,\n",
              "                                                  Pipeline(steps=[(&#x27;cat_impute&#x27;,\n",
              "                                                                   SimpleImputer(strategy=&#x27;most_frequent&#x27;)),\n",
              "                                                                  (&#x27;onehot_cat&#x27;,\n",
              "                                                                   OneHotEncoder())]),\n",
              "                                                  [&#x27;state&#x27;, &#x27;declaration_type&#x27;,\n",
              "                                                   &#x27;season&#x27;, &#x27;month&#x27;]),\n",
              "                                                 (&#x27;num_pipe&#x27;,\n",
              "                                                  Pipeline(steps=[(&#x27;impute_num&#x27;,\n",
              "                                                                   SimpleImputer()),\n",
              "                                                                  (&#x27;scale_num&#x27;,\n",
              "                                                                   StandardScaler())]),\n",
              "                                                  [&#x27;fy_declared&#x27;,\n",
              "                                                   &#x27;disaster_number&#x27;, &#x27;fips&#x27;,\n",
              "                                                   &#x27;place_code&#x27;,\n",
              "                                                   &#x27;declaration_request_number&#x27;])])),\n",
              "                (&#x27;mdl&#x27;,\n",
              "                 GradientBoostingClassifier(learning_rate=1.0, max_depth=1,\n",
              "                                            random_state=0))])</pre></div></div></div><div class=\"sk-serial\"><div class=\"sk-item sk-dashed-wrapped\"><div class=\"sk-label-container\"><div class=\"sk-label sk-toggleable\"><input class=\"sk-toggleable__control sk-hidden--visually\" id=\"585a64b6-fcc3-4b59-a1a1-1fe292a8bc42\" type=\"checkbox\" ><label for=\"585a64b6-fcc3-4b59-a1a1-1fe292a8bc42\" class=\"sk-toggleable__label sk-toggleable__label-arrow\">preproc: ColumnTransformer</label><div class=\"sk-toggleable__content\"><pre>ColumnTransformer(remainder=&#x27;passthrough&#x27;,\n",
              "                  transformers=[(&#x27;cat_pipe&#x27;,\n",
              "                                 Pipeline(steps=[(&#x27;cat_impute&#x27;,\n",
              "                                                  SimpleImputer(strategy=&#x27;most_frequent&#x27;)),\n",
              "                                                 (&#x27;onehot_cat&#x27;,\n",
              "                                                  OneHotEncoder())]),\n",
              "                                 [&#x27;state&#x27;, &#x27;declaration_type&#x27;, &#x27;season&#x27;,\n",
              "                                  &#x27;month&#x27;]),\n",
              "                                (&#x27;num_pipe&#x27;,\n",
              "                                 Pipeline(steps=[(&#x27;impute_num&#x27;,\n",
              "                                                  SimpleImputer()),\n",
              "                                                 (&#x27;scale_num&#x27;,\n",
              "                                                  StandardScaler())]),\n",
              "                                 [&#x27;fy_declared&#x27;, &#x27;disaster_number&#x27;, &#x27;fips&#x27;,\n",
              "                                  &#x27;place_code&#x27;,\n",
              "                                  &#x27;declaration_request_number&#x27;])])</pre></div></div></div><div class=\"sk-parallel\"><div class=\"sk-parallel-item\"><div class=\"sk-item\"><div class=\"sk-label-container\"><div class=\"sk-label sk-toggleable\"><input class=\"sk-toggleable__control sk-hidden--visually\" id=\"fe84dd61-d682-404a-b62c-eaf8cf3999bd\" type=\"checkbox\" ><label for=\"fe84dd61-d682-404a-b62c-eaf8cf3999bd\" class=\"sk-toggleable__label sk-toggleable__label-arrow\">cat_pipe</label><div class=\"sk-toggleable__content\"><pre>[&#x27;state&#x27;, &#x27;declaration_type&#x27;, &#x27;season&#x27;, &#x27;month&#x27;]</pre></div></div></div><div class=\"sk-serial\"><div class=\"sk-item\"><div class=\"sk-serial\"><div class=\"sk-item\"><div class=\"sk-estimator sk-toggleable\"><input class=\"sk-toggleable__control sk-hidden--visually\" id=\"9bce9552-145f-4fae-9f57-beed057ec782\" type=\"checkbox\" ><label for=\"9bce9552-145f-4fae-9f57-beed057ec782\" class=\"sk-toggleable__label sk-toggleable__label-arrow\">SimpleImputer</label><div class=\"sk-toggleable__content\"><pre>SimpleImputer(strategy=&#x27;most_frequent&#x27;)</pre></div></div></div><div class=\"sk-item\"><div class=\"sk-estimator sk-toggleable\"><input class=\"sk-toggleable__control sk-hidden--visually\" id=\"8da0be64-427d-42ca-9f58-6fec8a315006\" type=\"checkbox\" ><label for=\"8da0be64-427d-42ca-9f58-6fec8a315006\" class=\"sk-toggleable__label sk-toggleable__label-arrow\">OneHotEncoder</label><div class=\"sk-toggleable__content\"><pre>OneHotEncoder()</pre></div></div></div></div></div></div></div></div><div class=\"sk-parallel-item\"><div class=\"sk-item\"><div class=\"sk-label-container\"><div class=\"sk-label sk-toggleable\"><input class=\"sk-toggleable__control sk-hidden--visually\" id=\"eb9ddaa4-851e-4909-b56c-e9f2ebbaaa0c\" type=\"checkbox\" ><label for=\"eb9ddaa4-851e-4909-b56c-e9f2ebbaaa0c\" class=\"sk-toggleable__label sk-toggleable__label-arrow\">num_pipe</label><div class=\"sk-toggleable__content\"><pre>[&#x27;fy_declared&#x27;, &#x27;disaster_number&#x27;, &#x27;fips&#x27;, &#x27;place_code&#x27;, &#x27;declaration_request_number&#x27;]</pre></div></div></div><div class=\"sk-serial\"><div class=\"sk-item\"><div class=\"sk-serial\"><div class=\"sk-item\"><div class=\"sk-estimator sk-toggleable\"><input class=\"sk-toggleable__control sk-hidden--visually\" id=\"cae77337-c4e1-41ec-9d43-5d7c36b93814\" type=\"checkbox\" ><label for=\"cae77337-c4e1-41ec-9d43-5d7c36b93814\" class=\"sk-toggleable__label sk-toggleable__label-arrow\">SimpleImputer</label><div class=\"sk-toggleable__content\"><pre>SimpleImputer()</pre></div></div></div><div class=\"sk-item\"><div class=\"sk-estimator sk-toggleable\"><input class=\"sk-toggleable__control sk-hidden--visually\" id=\"60c6f19a-9dd8-49c8-b7dd-2cfe850dee15\" type=\"checkbox\" ><label for=\"60c6f19a-9dd8-49c8-b7dd-2cfe850dee15\" class=\"sk-toggleable__label sk-toggleable__label-arrow\">StandardScaler</label><div class=\"sk-toggleable__content\"><pre>StandardScaler()</pre></div></div></div></div></div></div></div></div><div class=\"sk-parallel-item\"><div class=\"sk-item\"><div class=\"sk-label-container\"><div class=\"sk-label sk-toggleable\"><input class=\"sk-toggleable__control sk-hidden--visually\" id=\"61786ba6-7aa9-44d6-81ce-0fe72e1ddd1c\" type=\"checkbox\" ><label for=\"61786ba6-7aa9-44d6-81ce-0fe72e1ddd1c\" class=\"sk-toggleable__label sk-toggleable__label-arrow\">remainder</label><div class=\"sk-toggleable__content\"><pre></pre></div></div></div><div class=\"sk-serial\"><div class=\"sk-item\"><div class=\"sk-estimator sk-toggleable\"><input class=\"sk-toggleable__control sk-hidden--visually\" id=\"f1452b1c-f6ff-4fa6-9f77-9c957e8feab2\" type=\"checkbox\" ><label for=\"f1452b1c-f6ff-4fa6-9f77-9c957e8feab2\" class=\"sk-toggleable__label sk-toggleable__label-arrow\">passthrough</label><div class=\"sk-toggleable__content\"><pre>passthrough</pre></div></div></div></div></div></div></div></div><div class=\"sk-item\"><div class=\"sk-estimator sk-toggleable\"><input class=\"sk-toggleable__control sk-hidden--visually\" id=\"a302084e-0fb6-41a7-a42f-93c73ff9c10f\" type=\"checkbox\" ><label for=\"a302084e-0fb6-41a7-a42f-93c73ff9c10f\" class=\"sk-toggleable__label sk-toggleable__label-arrow\">GradientBoostingClassifier</label><div class=\"sk-toggleable__content\"><pre>GradientBoostingClassifier(learning_rate=1.0, max_depth=1, random_state=0)</pre></div></div></div></div></div></div></div>"
            ]
          },
          "metadata": {}
        }
      ]
    },
    {
      "cell_type": "markdown",
      "source": [
        "### Cross-validation / Hyperparameter tuning\n",
        "\n",
        "We will tune our models, for our Logistic regression, Gradient Boosting, and Random Forest models, we will opt for sensible configuration implemented by scikit."
      ],
      "metadata": {
        "id": "Blm7V6-sY7Ev"
      }
    },
    {
      "cell_type": "code",
      "source": [
        "log_gs = GridSearchCV(log_pipe, param_grid={}, return_train_score=True)\n",
        "rf_gs = GridSearchCV(rf_pipe, param_grid={}, return_train_score=True)\n",
        "gb_gs = GridSearchCV(gb_pipe, param_grid={}, return_train_score=True)"
      ],
      "metadata": {
        "id": "oTjqNFRE6pLa"
      },
      "execution_count": 160,
      "outputs": []
    },
    {
      "cell_type": "markdown",
      "source": [
        "## Model fitting and evaluation\n",
        "\n",
        "list 1-3 assumptions you have about feature importance or how you anticipate your model’s performance will be"
      ],
      "metadata": {
        "id": "f_8BCKMKrvT1"
      }
    },
    {
      "cell_type": "code",
      "source": [
        "log_gs.fit(X_train, y_train)\n",
        "rf_gs.fit(X_train, y_train)\n",
        "gb_gs.fit(X_train, y_train)"
      ],
      "metadata": {
        "id": "hdWX5hnEbD-8",
        "outputId": "08f77e2b-a4ca-44ad-aaf6-4a6be90b01ae",
        "colab": {
          "base_uri": "https://localhost:8080/"
        }
      },
      "execution_count": 161,
      "outputs": [
        {
          "output_type": "execute_result",
          "data": {
            "text/plain": [
              "GridSearchCV(estimator=Pipeline(steps=[('preproc',\n",
              "                                        ColumnTransformer(remainder='passthrough',\n",
              "                                                          transformers=[('cat_pipe',\n",
              "                                                                         Pipeline(steps=[('cat_impute',\n",
              "                                                                                          SimpleImputer(strategy='most_frequent')),\n",
              "                                                                                         ('onehot_cat',\n",
              "                                                                                          OneHotEncoder())]),\n",
              "                                                                         ['state',\n",
              "                                                                          'declaration_type',\n",
              "                                                                          'season',\n",
              "                                                                          'month']),\n",
              "                                                                        ('num_pipe',\n",
              "                                                                         Pipeline(steps=[('impute_num',\n",
              "                                                                                          SimpleImputer()),\n",
              "                                                                                         ('scale_num',\n",
              "                                                                                          StandardScaler())]),\n",
              "                                                                         ['fy_declared',\n",
              "                                                                          'disaster_number',\n",
              "                                                                          'fips',\n",
              "                                                                          'place_code',\n",
              "                                                                          'declaration_request_number'])])),\n",
              "                                       ('mdl',\n",
              "                                        GradientBoostingClassifier(learning_rate=1.0,\n",
              "                                                                   max_depth=1,\n",
              "                                                                   random_state=0))]),\n",
              "             param_grid={}, return_train_score=True)"
            ]
          },
          "metadata": {},
          "execution_count": 161
        }
      ]
    },
    {
      "cell_type": "code",
      "source": [
        "print('LogisticRegression Model:')\n",
        "print(log_gs.best_score_)\n",
        "log_gs.best_params_\n",
        "pd.DataFrame(log_gs.cv_results_)\n",
        "\n",
        "print('RandomForest Model:')\n",
        "print(rf_gs.best_score_)\n",
        "rf_gs.best_params_\n",
        "pd.DataFrame(rf_gs.cv_results_)\n",
        "\n",
        "print('GradientBoosting Model:')\n",
        "print(gb_gs.best_score_)\n",
        "gb_gs.best_params_\n",
        "pd.DataFrame(gb_gs.cv_results_)"
      ],
      "metadata": {
        "id": "ST4Fp6qBgepF",
        "outputId": "013f8524-0c8a-4442-8d67-8efb98c96f5c",
        "colab": {
          "base_uri": "https://localhost:8080/",
          "height": 249
        }
      },
      "execution_count": 162,
      "outputs": [
        {
          "output_type": "stream",
          "name": "stdout",
          "text": [
            "LogisticRegression Model:\n",
            "0.7379615952732644\n",
            "RandomForest Model:\n",
            "0.7500738552437223\n",
            "GradientBoosting Model:\n",
            "0.49985228951255534\n"
          ]
        },
        {
          "output_type": "execute_result",
          "data": {
            "text/plain": [
              "   mean_fit_time  std_fit_time  mean_score_time  std_score_time params  \\\n",
              "0       5.237681      0.074721         0.015894         0.00156     {}   \n",
              "\n",
              "   split0_test_score  split1_test_score  split2_test_score  split3_test_score  \\\n",
              "0           0.035451           0.602659            0.61743           0.608567   \n",
              "\n",
              "   split4_test_score  mean_test_score  std_test_score  rank_test_score  \\\n",
              "0           0.635155         0.499852         0.23246                1   \n",
              "\n",
              "   split0_train_score  split1_train_score  split2_train_score  \\\n",
              "0             0.04579            0.625923            0.619276   \n",
              "\n",
              "   split3_train_score  split4_train_score  mean_train_score  std_train_score  \n",
              "0            0.642171            0.658789           0.51839         0.236696  "
            ],
            "text/html": [
              "\n",
              "  <div id=\"df-4a59e0e4-8726-486e-913f-81c56cc0dc05\">\n",
              "    <div class=\"colab-df-container\">\n",
              "      <div>\n",
              "<style scoped>\n",
              "    .dataframe tbody tr th:only-of-type {\n",
              "        vertical-align: middle;\n",
              "    }\n",
              "\n",
              "    .dataframe tbody tr th {\n",
              "        vertical-align: top;\n",
              "    }\n",
              "\n",
              "    .dataframe thead th {\n",
              "        text-align: right;\n",
              "    }\n",
              "</style>\n",
              "<table border=\"1\" class=\"dataframe\">\n",
              "  <thead>\n",
              "    <tr style=\"text-align: right;\">\n",
              "      <th></th>\n",
              "      <th>mean_fit_time</th>\n",
              "      <th>std_fit_time</th>\n",
              "      <th>mean_score_time</th>\n",
              "      <th>std_score_time</th>\n",
              "      <th>params</th>\n",
              "      <th>split0_test_score</th>\n",
              "      <th>split1_test_score</th>\n",
              "      <th>split2_test_score</th>\n",
              "      <th>split3_test_score</th>\n",
              "      <th>split4_test_score</th>\n",
              "      <th>mean_test_score</th>\n",
              "      <th>std_test_score</th>\n",
              "      <th>rank_test_score</th>\n",
              "      <th>split0_train_score</th>\n",
              "      <th>split1_train_score</th>\n",
              "      <th>split2_train_score</th>\n",
              "      <th>split3_train_score</th>\n",
              "      <th>split4_train_score</th>\n",
              "      <th>mean_train_score</th>\n",
              "      <th>std_train_score</th>\n",
              "    </tr>\n",
              "  </thead>\n",
              "  <tbody>\n",
              "    <tr>\n",
              "      <th>0</th>\n",
              "      <td>5.237681</td>\n",
              "      <td>0.074721</td>\n",
              "      <td>0.015894</td>\n",
              "      <td>0.00156</td>\n",
              "      <td>{}</td>\n",
              "      <td>0.035451</td>\n",
              "      <td>0.602659</td>\n",
              "      <td>0.61743</td>\n",
              "      <td>0.608567</td>\n",
              "      <td>0.635155</td>\n",
              "      <td>0.499852</td>\n",
              "      <td>0.23246</td>\n",
              "      <td>1</td>\n",
              "      <td>0.04579</td>\n",
              "      <td>0.625923</td>\n",
              "      <td>0.619276</td>\n",
              "      <td>0.642171</td>\n",
              "      <td>0.658789</td>\n",
              "      <td>0.51839</td>\n",
              "      <td>0.236696</td>\n",
              "    </tr>\n",
              "  </tbody>\n",
              "</table>\n",
              "</div>\n",
              "      <button class=\"colab-df-convert\" onclick=\"convertToInteractive('df-4a59e0e4-8726-486e-913f-81c56cc0dc05')\"\n",
              "              title=\"Convert this dataframe to an interactive table.\"\n",
              "              style=\"display:none;\">\n",
              "        \n",
              "  <svg xmlns=\"http://www.w3.org/2000/svg\" height=\"24px\"viewBox=\"0 0 24 24\"\n",
              "       width=\"24px\">\n",
              "    <path d=\"M0 0h24v24H0V0z\" fill=\"none\"/>\n",
              "    <path d=\"M18.56 5.44l.94 2.06.94-2.06 2.06-.94-2.06-.94-.94-2.06-.94 2.06-2.06.94zm-11 1L8.5 8.5l.94-2.06 2.06-.94-2.06-.94L8.5 2.5l-.94 2.06-2.06.94zm10 10l.94 2.06.94-2.06 2.06-.94-2.06-.94-.94-2.06-.94 2.06-2.06.94z\"/><path d=\"M17.41 7.96l-1.37-1.37c-.4-.4-.92-.59-1.43-.59-.52 0-1.04.2-1.43.59L10.3 9.45l-7.72 7.72c-.78.78-.78 2.05 0 2.83L4 21.41c.39.39.9.59 1.41.59.51 0 1.02-.2 1.41-.59l7.78-7.78 2.81-2.81c.8-.78.8-2.07 0-2.86zM5.41 20L4 18.59l7.72-7.72 1.47 1.35L5.41 20z\"/>\n",
              "  </svg>\n",
              "      </button>\n",
              "      \n",
              "  <style>\n",
              "    .colab-df-container {\n",
              "      display:flex;\n",
              "      flex-wrap:wrap;\n",
              "      gap: 12px;\n",
              "    }\n",
              "\n",
              "    .colab-df-convert {\n",
              "      background-color: #E8F0FE;\n",
              "      border: none;\n",
              "      border-radius: 50%;\n",
              "      cursor: pointer;\n",
              "      display: none;\n",
              "      fill: #1967D2;\n",
              "      height: 32px;\n",
              "      padding: 0 0 0 0;\n",
              "      width: 32px;\n",
              "    }\n",
              "\n",
              "    .colab-df-convert:hover {\n",
              "      background-color: #E2EBFA;\n",
              "      box-shadow: 0px 1px 2px rgba(60, 64, 67, 0.3), 0px 1px 3px 1px rgba(60, 64, 67, 0.15);\n",
              "      fill: #174EA6;\n",
              "    }\n",
              "\n",
              "    [theme=dark] .colab-df-convert {\n",
              "      background-color: #3B4455;\n",
              "      fill: #D2E3FC;\n",
              "    }\n",
              "\n",
              "    [theme=dark] .colab-df-convert:hover {\n",
              "      background-color: #434B5C;\n",
              "      box-shadow: 0px 1px 3px 1px rgba(0, 0, 0, 0.15);\n",
              "      filter: drop-shadow(0px 1px 2px rgba(0, 0, 0, 0.3));\n",
              "      fill: #FFFFFF;\n",
              "    }\n",
              "  </style>\n",
              "\n",
              "      <script>\n",
              "        const buttonEl =\n",
              "          document.querySelector('#df-4a59e0e4-8726-486e-913f-81c56cc0dc05 button.colab-df-convert');\n",
              "        buttonEl.style.display =\n",
              "          google.colab.kernel.accessAllowed ? 'block' : 'none';\n",
              "\n",
              "        async function convertToInteractive(key) {\n",
              "          const element = document.querySelector('#df-4a59e0e4-8726-486e-913f-81c56cc0dc05');\n",
              "          const dataTable =\n",
              "            await google.colab.kernel.invokeFunction('convertToInteractive',\n",
              "                                                     [key], {});\n",
              "          if (!dataTable) return;\n",
              "\n",
              "          const docLinkHtml = 'Like what you see? Visit the ' +\n",
              "            '<a target=\"_blank\" href=https://colab.research.google.com/notebooks/data_table.ipynb>data table notebook</a>'\n",
              "            + ' to learn more about interactive tables.';\n",
              "          element.innerHTML = '';\n",
              "          dataTable['output_type'] = 'display_data';\n",
              "          await google.colab.output.renderOutput(dataTable, element);\n",
              "          const docLink = document.createElement('div');\n",
              "          docLink.innerHTML = docLinkHtml;\n",
              "          element.appendChild(docLink);\n",
              "        }\n",
              "      </script>\n",
              "    </div>\n",
              "  </div>\n",
              "  "
            ]
          },
          "metadata": {},
          "execution_count": 162
        }
      ]
    },
    {
      "cell_type": "code",
      "source": [
        "from sklearn.metrics import classification_report, confusion_matrix, ConfusionMatrixDisplay"
      ],
      "metadata": {
        "id": "52aG02RBhKZI"
      },
      "execution_count": 163,
      "outputs": []
    },
    {
      "cell_type": "code",
      "source": [
        "print(classification_report(y_test, log_gs.best_estimator_.predict(X_test)))\n",
        "\n",
        "print(classification_report(y_test, rf_gs.best_estimator_.predict(X_test)))\n",
        "\n",
        "print(classification_report(y_test, gb_gs.best_estimator_.predict(X_test)))"
      ],
      "metadata": {
        "id": "4RNAi0hHhAKs",
        "outputId": "89055c74-f5cd-4fb0-cd16-a0475a8e326f",
        "colab": {
          "base_uri": "https://localhost:8080/"
        }
      },
      "execution_count": 164,
      "outputs": [
        {
          "output_type": "stream",
          "name": "stderr",
          "text": [
            "/usr/local/lib/python3.7/dist-packages/sklearn/metrics/_classification.py:1318: UndefinedMetricWarning: Precision and F-score are ill-defined and being set to 0.0 in labels with no predicted samples. Use `zero_division` parameter to control this behavior.\n",
            "  _warn_prf(average, modifier, msg_start, len(result))\n",
            "/usr/local/lib/python3.7/dist-packages/sklearn/metrics/_classification.py:1318: UndefinedMetricWarning: Precision and F-score are ill-defined and being set to 0.0 in labels with no predicted samples. Use `zero_division` parameter to control this behavior.\n",
            "  _warn_prf(average, modifier, msg_start, len(result))\n",
            "/usr/local/lib/python3.7/dist-packages/sklearn/metrics/_classification.py:1318: UndefinedMetricWarning: Precision and F-score are ill-defined and being set to 0.0 in labels with no predicted samples. Use `zero_division` parameter to control this behavior.\n",
            "  _warn_prf(average, modifier, msg_start, len(result))\n"
          ]
        },
        {
          "output_type": "stream",
          "name": "stdout",
          "text": [
            "                  precision    recall  f1-score   support\n",
            "\n",
            "   Coastal Storm       0.00      0.00      0.00         8\n",
            "         Drought       0.42      0.42      0.42        12\n",
            "      Earthquake       0.00      0.00      0.00         9\n",
            "            Fire       0.98      0.94      0.96       386\n",
            "           Flood       0.62      0.66      0.64       213\n",
            "        Freezing       0.00      0.00      0.00         4\n",
            "       Hurricane       0.66      0.79      0.72       106\n",
            "           Other       0.00      0.00      0.00        17\n",
            "Severe Ice Storm       0.40      0.11      0.17        19\n",
            " Severe Storm(s)       0.65      0.80      0.72       254\n",
            "            Snow       0.66      0.60      0.62        42\n",
            "         Tornado       0.50      0.18      0.27        44\n",
            "         Typhoon       0.65      1.00      0.79        15\n",
            "\n",
            "        accuracy                           0.75      1129\n",
            "       macro avg       0.43      0.42      0.41      1129\n",
            "    weighted avg       0.73      0.75      0.73      1129\n",
            "\n",
            "                  precision    recall  f1-score   support\n",
            "\n",
            "   Coastal Storm       1.00      0.12      0.22         8\n",
            "         Drought       0.71      0.42      0.53        12\n",
            "      Earthquake       0.00      0.00      0.00         9\n",
            "            Fire       0.99      0.94      0.96       386\n",
            "           Flood       0.65      0.68      0.66       213\n",
            "        Freezing       0.00      0.00      0.00         4\n",
            "       Hurricane       0.76      0.75      0.75       106\n",
            "           Other       0.33      0.12      0.17        17\n",
            "Severe Ice Storm       0.29      0.11      0.15        19\n",
            " Severe Storm(s)       0.64      0.86      0.73       254\n",
            "            Snow       0.77      0.64      0.70        42\n",
            "         Tornado       0.65      0.25      0.36        44\n",
            "         Typhoon       0.75      1.00      0.86        15\n",
            "\n",
            "        accuracy                           0.77      1129\n",
            "       macro avg       0.58      0.45      0.47      1129\n",
            "    weighted avg       0.76      0.77      0.75      1129\n",
            "\n",
            "                  precision    recall  f1-score   support\n",
            "\n",
            "   Coastal Storm       0.00      0.00      0.00         8\n",
            "         Drought       0.08      0.67      0.15        12\n",
            "      Earthquake       0.00      0.00      0.00         9\n",
            "            Fire       0.95      0.89      0.92       386\n",
            "           Flood       0.63      0.62      0.62       213\n",
            "        Freezing       0.00      0.00      0.00         4\n",
            "       Hurricane       0.41      0.11      0.18       106\n",
            "           Other       0.50      0.06      0.11        17\n",
            "Severe Ice Storm       0.09      0.05      0.07        19\n",
            " Severe Storm(s)       0.58      0.83      0.68       254\n",
            "            Snow       0.00      0.00      0.00        42\n",
            "         Tornado       0.14      0.05      0.07        44\n",
            "         Typhoon       0.00      0.00      0.00        15\n",
            "\n",
            "        accuracy                           0.63      1129\n",
            "       macro avg       0.26      0.25      0.21      1129\n",
            "    weighted avg       0.63      0.63      0.61      1129\n",
            "\n"
          ]
        },
        {
          "output_type": "stream",
          "name": "stderr",
          "text": [
            "/usr/local/lib/python3.7/dist-packages/sklearn/metrics/_classification.py:1318: UndefinedMetricWarning: Precision and F-score are ill-defined and being set to 0.0 in labels with no predicted samples. Use `zero_division` parameter to control this behavior.\n",
            "  _warn_prf(average, modifier, msg_start, len(result))\n",
            "/usr/local/lib/python3.7/dist-packages/sklearn/metrics/_classification.py:1318: UndefinedMetricWarning: Precision and F-score are ill-defined and being set to 0.0 in labels with no predicted samples. Use `zero_division` parameter to control this behavior.\n",
            "  _warn_prf(average, modifier, msg_start, len(result))\n",
            "/usr/local/lib/python3.7/dist-packages/sklearn/metrics/_classification.py:1318: UndefinedMetricWarning: Precision and F-score are ill-defined and being set to 0.0 in labels with no predicted samples. Use `zero_division` parameter to control this behavior.\n",
            "  _warn_prf(average, modifier, msg_start, len(result))\n",
            "/usr/local/lib/python3.7/dist-packages/sklearn/metrics/_classification.py:1318: UndefinedMetricWarning: Precision and F-score are ill-defined and being set to 0.0 in labels with no predicted samples. Use `zero_division` parameter to control this behavior.\n",
            "  _warn_prf(average, modifier, msg_start, len(result))\n",
            "/usr/local/lib/python3.7/dist-packages/sklearn/metrics/_classification.py:1318: UndefinedMetricWarning: Precision and F-score are ill-defined and being set to 0.0 in labels with no predicted samples. Use `zero_division` parameter to control this behavior.\n",
            "  _warn_prf(average, modifier, msg_start, len(result))\n",
            "/usr/local/lib/python3.7/dist-packages/sklearn/metrics/_classification.py:1318: UndefinedMetricWarning: Precision and F-score are ill-defined and being set to 0.0 in labels with no predicted samples. Use `zero_division` parameter to control this behavior.\n",
            "  _warn_prf(average, modifier, msg_start, len(result))\n"
          ]
        }
      ]
    },
    {
      "cell_type": "code",
      "source": [
        "print('LogisticRegression Model:')\n",
        "cm = confusion_matrix(y_test, log_gs.best_estimator_.predict(X_test))\n",
        "disp = ConfusionMatrixDisplay(confusion_matrix=cm, display_labels=log_gs.classes_)\n",
        "disp.plot()\n",
        "\n",
        "plt.show()\n",
        "\n",
        "print('RandomForest Model:')\n",
        "cm = confusion_matrix(y_test, rf_gs.best_estimator_.predict(X_test))\n",
        "disp = ConfusionMatrixDisplay(confusion_matrix=cm, display_labels=rf_gs.classes_)\n",
        "disp.plot()\n",
        "\n",
        "plt.show()\n",
        "\n",
        "print('Gradient Boosting Model:')\n",
        "cm = confusion_matrix(y_test, gb_gs.best_estimator_.predict(X_test))\n",
        "disp = ConfusionMatrixDisplay(confusion_matrix=cm, display_labels=gb_gs.classes_)\n",
        "disp.plot()\n",
        "\n",
        "plt.show()"
      ],
      "metadata": {
        "id": "3wtrR7BHhaR3",
        "outputId": "4502251e-2421-4dfb-ed15-505c7db40c16",
        "colab": {
          "base_uri": "https://localhost:8080/",
          "height": 855
        }
      },
      "execution_count": 167,
      "outputs": [
        {
          "output_type": "stream",
          "name": "stdout",
          "text": [
            "LogisticRegression Model:\n"
          ]
        },
        {
          "output_type": "display_data",
          "data": {
            "text/plain": [
              "<Figure size 432x288 with 2 Axes>"
            ],
            "image/png": "[encoded data removed]"
          },
          "metadata": {
            "needs_background": "light"
          }
        },
        {
          "output_type": "stream",
          "name": "stdout",
          "text": [
            "RandomForest Model:\n"
          ]
        },
        {
          "output_type": "display_data",
          "data": {
            "text/plain": [
              "<Figure size 432x288 with 2 Axes>"
            ],
            "image/png": "[encoded data removed]"
          },
          "metadata": {
            "needs_background": "light"
          }
        },
        {
          "output_type": "stream",
          "name": "stdout",
          "text": [
            "Gradient Boosting Model:\n"
          ]
        },
        {
          "output_type": "display_data",
          "data": {
            "text/plain": [
              "<Figure size 432x288 with 2 Axes>"
            ],
            "image/png": "[encoded data removed]"
          },
          "metadata": {
            "needs_background": "light"
          }
        }
      ]
    }
  ]
}